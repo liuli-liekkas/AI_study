{
 "cells": [
  {
   "cell_type": "markdown",
   "metadata": {},
   "source": [
    "我们使用pycaret.nlp模块进行自然语言处理。\n",
    "\n",
    "学习内容：\n",
    "\n",
    "    设置环境：在PyCaret中设置环境并执行关键的文本预处理任务。\n",
    "    创建模型：创建topic model。\n",
    "    分配模型：使用经过训练的模型将文档/文本分配给主题。\n",
    "    绘制图表：使用图表分析topic model/语料库。"
   ]
  },
  {
   "cell_type": "markdown",
   "metadata": {},
   "source": [
    "# 1.数据集处理\n",
    "数据集包含6818个样本。特征的描述如下：\n",
    "\n",
    "    country\t：借款国\n",
    "    en：申请贷款时借款人的个人经历\n",
    "    gender：性别（M =男性，F =女性）\n",
    "    loan_amount：已批准和已支付的贷款金额\n",
    "    nonpayment：贷方类型（lender\t：Kiva网站上的个人注册用户，partner：与Kiva合作寻找并资助贷款的小额信贷机构）\n",
    "    sector：借款人行业\n",
    "    status：贷款状态（1：未还款，0：还款）"
   ]
  },
  {
   "cell_type": "code",
   "execution_count": 1,
   "metadata": {
    "ExecuteTime": {
     "start_time": "2020-10-26T15:34:35.310Z"
    }
   },
   "outputs": [
    {
     "data": {
      "text/html": [
       "<div>\n",
       "<style scoped>\n",
       "    .dataframe tbody tr th:only-of-type {\n",
       "        vertical-align: middle;\n",
       "    }\n",
       "\n",
       "    .dataframe tbody tr th {\n",
       "        vertical-align: top;\n",
       "    }\n",
       "\n",
       "    .dataframe thead th {\n",
       "        text-align: right;\n",
       "    }\n",
       "</style>\n",
       "<table border=\"1\" class=\"dataframe\">\n",
       "  <thead>\n",
       "    <tr style=\"text-align: right;\">\n",
       "      <th></th>\n",
       "      <th>country</th>\n",
       "      <th>en</th>\n",
       "      <th>gender</th>\n",
       "      <th>loan_amount</th>\n",
       "      <th>nonpayment</th>\n",
       "      <th>sector</th>\n",
       "      <th>status</th>\n",
       "    </tr>\n",
       "  </thead>\n",
       "  <tbody>\n",
       "    <tr>\n",
       "      <th>0</th>\n",
       "      <td>Dominican Republic</td>\n",
       "      <td>\"Banco Esperanza\" is a group of 10 women looki...</td>\n",
       "      <td>F</td>\n",
       "      <td>1225</td>\n",
       "      <td>partner</td>\n",
       "      <td>Retail</td>\n",
       "      <td>0</td>\n",
       "    </tr>\n",
       "    <tr>\n",
       "      <th>1</th>\n",
       "      <td>Dominican Republic</td>\n",
       "      <td>\"Caminemos Hacia Adelante\" or \"Walking Forward...</td>\n",
       "      <td>F</td>\n",
       "      <td>1975</td>\n",
       "      <td>lender</td>\n",
       "      <td>Clothing</td>\n",
       "      <td>0</td>\n",
       "    </tr>\n",
       "    <tr>\n",
       "      <th>2</th>\n",
       "      <td>Dominican Republic</td>\n",
       "      <td>\"Creciendo Por La Union\" is a group of 10 peop...</td>\n",
       "      <td>F</td>\n",
       "      <td>2175</td>\n",
       "      <td>partner</td>\n",
       "      <td>Clothing</td>\n",
       "      <td>0</td>\n",
       "    </tr>\n",
       "    <tr>\n",
       "      <th>3</th>\n",
       "      <td>Dominican Republic</td>\n",
       "      <td>\"Cristo Vive\" (\"Christ lives\" is a group of 10...</td>\n",
       "      <td>F</td>\n",
       "      <td>1425</td>\n",
       "      <td>partner</td>\n",
       "      <td>Clothing</td>\n",
       "      <td>0</td>\n",
       "    </tr>\n",
       "    <tr>\n",
       "      <th>4</th>\n",
       "      <td>Dominican Republic</td>\n",
       "      <td>\"Cristo Vive\" is a large group of 35 people, 2...</td>\n",
       "      <td>F</td>\n",
       "      <td>4025</td>\n",
       "      <td>partner</td>\n",
       "      <td>Food</td>\n",
       "      <td>0</td>\n",
       "    </tr>\n",
       "  </tbody>\n",
       "</table>\n",
       "</div>"
      ],
      "text/plain": [
       "              country                                                 en  \\\n",
       "0  Dominican Republic  \"Banco Esperanza\" is a group of 10 women looki...   \n",
       "1  Dominican Republic  \"Caminemos Hacia Adelante\" or \"Walking Forward...   \n",
       "2  Dominican Republic  \"Creciendo Por La Union\" is a group of 10 peop...   \n",
       "3  Dominican Republic  \"Cristo Vive\" (\"Christ lives\" is a group of 10...   \n",
       "4  Dominican Republic  \"Cristo Vive\" is a large group of 35 people, 2...   \n",
       "\n",
       "  gender  loan_amount nonpayment    sector  status  \n",
       "0      F         1225    partner    Retail       0  \n",
       "1      F         1975     lender  Clothing       0  \n",
       "2      F         2175    partner  Clothing       0  \n",
       "3      F         1425    partner  Clothing       0  \n",
       "4      F         4025    partner      Food       0  "
      ]
     },
     "execution_count": 1,
     "metadata": {},
     "output_type": "execute_result"
    }
   ],
   "source": [
    "from pycaret.datasets import get_data\n",
    "import pandas as pd\n",
    "\n",
    "\n",
    "data = pd.read_csv('./data/LDA_data.csv')\n",
    "data.head()"
   ]
  },
  {
   "cell_type": "markdown",
   "metadata": {},
   "source": [
    "数据集共有6818条，若电脑无法运行这么大的话，取其中1000条运行。（后续绘图会比较卡）"
   ]
  },
  {
   "cell_type": "code",
   "execution_count": 2,
   "metadata": {
    "ExecuteTime": {
     "start_time": "2020-10-26T15:34:35.312Z"
    }
   },
   "outputs": [
    {
     "data": {
      "text/plain": [
       "(6818, 7)"
      ]
     },
     "execution_count": 2,
     "metadata": {},
     "output_type": "execute_result"
    }
   ],
   "source": [
    "#check the shape of data\n",
    "data.shape"
   ]
  },
  {
   "cell_type": "markdown",
   "metadata": {},
   "source": [
    "卡就运行，不卡就别运行了。"
   ]
  },
  {
   "cell_type": "code",
   "execution_count": 3,
   "metadata": {
    "ExecuteTime": {
     "start_time": "2020-10-26T15:34:35.313Z"
    }
   },
   "outputs": [
    {
     "data": {
      "text/plain": [
       "(1000, 7)"
      ]
     },
     "execution_count": 3,
     "metadata": {},
     "output_type": "execute_result"
    }
   ],
   "source": [
    "# sampling the data to select only 1000 documents\n",
    "data = data.sample(1000, random_state=786).reset_index(drop=True)\n",
    "data.shape"
   ]
  },
  {
   "cell_type": "markdown",
   "metadata": {},
   "source": [
    "# 2. 设置环境\n",
    "setup()函数会初始化pycaret中的环境，并执行一些必须处理NLP问题的文本预处理步骤。在pycaret中执行任何其他功能之前，必须先调用setup()函数。\n",
    "\n",
    "执行设置后，将自动应用以下预处理步骤：\n",
    "\n",
    "    - 删除数字字符：从文本中删除所有数字字符。\n",
    "    - 删除特殊字符：从文本中删除所有非字母数字的特殊字符。\n",
    "    - Word Tokenization：单词标记化是将大量文本样本拆分为多个单词的过程。\n",
    "    - 停用词的删除：很常见，即使对于语言有意义，它也对信息检索几乎没有价值。“the”，“a”，“an”，“in”\n",
    "    还有很多。。。。。。\n",
    "    "
   ]
  },
  {
   "cell_type": "markdown",
   "metadata": {
    "ExecuteTime": {
     "end_time": "2020-10-26T14:24:38.847542Z",
     "start_time": "2020-10-26T14:24:38.843848Z"
    }
   },
   "source": [
    "安装需要的语言模型\n",
    "python命令行界面，例如Anaconda Prompt，在命令行中输入以下内容：\n",
    "- python -m spacy download en_core_web_sm\n",
    "- python -m textblob.download_corpora\n",
    "\n",
    "然后运行下面的代码"
   ]
  },
  {
   "cell_type": "code",
   "execution_count": 6,
   "metadata": {
    "ExecuteTime": {
     "start_time": "2020-10-26T15:34:35.314Z"
    }
   },
   "outputs": [
    {
     "name": "stderr",
     "output_type": "stream",
     "text": [
      "C:\\Users\\liuli\\anaconda3\\envs\\python38\\lib\\site-packages\\mlflow\\protos\\scalapb\\scalapb_pb2.py:18: DeprecationWarning: Call to deprecated create function FileDescriptor(). Note: Create unlinked descriptors is going to go away. Please use get/find descriptors from generated code or query the descriptor_pool.\n",
      "  DESCRIPTOR = _descriptor.FileDescriptor(\n",
      "C:\\Users\\liuli\\anaconda3\\envs\\python38\\lib\\site-packages\\mlflow\\protos\\scalapb\\scalapb_pb2.py:29: DeprecationWarning: Call to deprecated create function FieldDescriptor(). Note: Create unlinked descriptors is going to go away. Please use get/find descriptors from generated code or query the descriptor_pool.\n",
      "  options = _descriptor.FieldDescriptor(\n",
      "C:\\Users\\liuli\\anaconda3\\envs\\python38\\lib\\site-packages\\mlflow\\protos\\scalapb\\scalapb_pb2.py:37: DeprecationWarning: Call to deprecated create function FieldDescriptor(). Note: Create unlinked descriptors is going to go away. Please use get/find descriptors from generated code or query the descriptor_pool.\n",
      "  message = _descriptor.FieldDescriptor(\n",
      "C:\\Users\\liuli\\anaconda3\\envs\\python38\\lib\\site-packages\\mlflow\\protos\\scalapb\\scalapb_pb2.py:45: DeprecationWarning: Call to deprecated create function FieldDescriptor(). Note: Create unlinked descriptors is going to go away. Please use get/find descriptors from generated code or query the descriptor_pool.\n",
      "  field = _descriptor.FieldDescriptor(\n",
      "C:\\Users\\liuli\\anaconda3\\envs\\python38\\lib\\site-packages\\mlflow\\protos\\scalapb\\scalapb_pb2.py:61: DeprecationWarning: Call to deprecated create function FieldDescriptor(). Note: Create unlinked descriptors is going to go away. Please use get/find descriptors from generated code or query the descriptor_pool.\n",
      "  _descriptor.FieldDescriptor(\n",
      "C:\\Users\\liuli\\anaconda3\\envs\\python38\\lib\\site-packages\\mlflow\\protos\\scalapb\\scalapb_pb2.py:68: DeprecationWarning: Call to deprecated create function FieldDescriptor(). Note: Create unlinked descriptors is going to go away. Please use get/find descriptors from generated code or query the descriptor_pool.\n",
      "  _descriptor.FieldDescriptor(\n",
      "C:\\Users\\liuli\\anaconda3\\envs\\python38\\lib\\site-packages\\mlflow\\protos\\scalapb\\scalapb_pb2.py:75: DeprecationWarning: Call to deprecated create function FieldDescriptor(). Note: Create unlinked descriptors is going to go away. Please use get/find descriptors from generated code or query the descriptor_pool.\n",
      "  _descriptor.FieldDescriptor(\n",
      "C:\\Users\\liuli\\anaconda3\\envs\\python38\\lib\\site-packages\\mlflow\\protos\\scalapb\\scalapb_pb2.py:54: DeprecationWarning: Call to deprecated create function Descriptor(). Note: Create unlinked descriptors is going to go away. Please use get/find descriptors from generated code or query the descriptor_pool.\n",
      "  _SCALAPBOPTIONS = _descriptor.Descriptor(\n",
      "C:\\Users\\liuli\\anaconda3\\envs\\python38\\lib\\site-packages\\mlflow\\protos\\scalapb\\scalapb_pb2.py:106: DeprecationWarning: Call to deprecated create function FieldDescriptor(). Note: Create unlinked descriptors is going to go away. Please use get/find descriptors from generated code or query the descriptor_pool.\n",
      "  _descriptor.FieldDescriptor(\n",
      "C:\\Users\\liuli\\anaconda3\\envs\\python38\\lib\\site-packages\\mlflow\\protos\\scalapb\\scalapb_pb2.py:99: DeprecationWarning: Call to deprecated create function Descriptor(). Note: Create unlinked descriptors is going to go away. Please use get/find descriptors from generated code or query the descriptor_pool.\n",
      "  _MESSAGEOPTIONS = _descriptor.Descriptor(\n",
      "C:\\Users\\liuli\\anaconda3\\envs\\python38\\lib\\site-packages\\mlflow\\protos\\scalapb\\scalapb_pb2.py:137: DeprecationWarning: Call to deprecated create function FieldDescriptor(). Note: Create unlinked descriptors is going to go away. Please use get/find descriptors from generated code or query the descriptor_pool.\n",
      "  _descriptor.FieldDescriptor(\n",
      "C:\\Users\\liuli\\anaconda3\\envs\\python38\\lib\\site-packages\\mlflow\\protos\\scalapb\\scalapb_pb2.py:130: DeprecationWarning: Call to deprecated create function Descriptor(). Note: Create unlinked descriptors is going to go away. Please use get/find descriptors from generated code or query the descriptor_pool.\n",
      "  _FIELDOPTIONS = _descriptor.Descriptor(\n",
      "C:\\Users\\liuli\\anaconda3\\envs\\python38\\lib\\site-packages\\mlflow\\protos\\databricks_pb2.py:20: DeprecationWarning: Call to deprecated create function FileDescriptor(). Note: Create unlinked descriptors is going to go away. Please use get/find descriptors from generated code or query the descriptor_pool.\n",
      "  DESCRIPTOR = _descriptor.FileDescriptor(\n",
      "C:\\Users\\liuli\\anaconda3\\envs\\python38\\lib\\site-packages\\mlflow\\protos\\databricks_pb2.py:35: DeprecationWarning: Call to deprecated create function EnumValueDescriptor(). Note: Create unlinked descriptors is going to go away. Please use get/find descriptors from generated code or query the descriptor_pool.\n",
      "  _descriptor.EnumValueDescriptor(\n",
      "C:\\Users\\liuli\\anaconda3\\envs\\python38\\lib\\site-packages\\mlflow\\protos\\databricks_pb2.py:39: DeprecationWarning: Call to deprecated create function EnumValueDescriptor(). Note: Create unlinked descriptors is going to go away. Please use get/find descriptors from generated code or query the descriptor_pool.\n",
      "  _descriptor.EnumValueDescriptor(\n",
      "C:\\Users\\liuli\\anaconda3\\envs\\python38\\lib\\site-packages\\mlflow\\protos\\databricks_pb2.py:43: DeprecationWarning: Call to deprecated create function EnumValueDescriptor(). Note: Create unlinked descriptors is going to go away. Please use get/find descriptors from generated code or query the descriptor_pool.\n",
      "  _descriptor.EnumValueDescriptor(\n",
      "C:\\Users\\liuli\\anaconda3\\envs\\python38\\lib\\site-packages\\mlflow\\protos\\databricks_pb2.py:29: DeprecationWarning: Call to deprecated create function EnumDescriptor(). Note: Create unlinked descriptors is going to go away. Please use get/find descriptors from generated code or query the descriptor_pool.\n",
      "  _VISIBILITY = _descriptor.EnumDescriptor(\n",
      "C:\\Users\\liuli\\anaconda3\\envs\\python38\\lib\\site-packages\\mlflow\\protos\\databricks_pb2.py:62: DeprecationWarning: Call to deprecated create function EnumValueDescriptor(). Note: Create unlinked descriptors is going to go away. Please use get/find descriptors from generated code or query the descriptor_pool.\n",
      "  _descriptor.EnumValueDescriptor(\n",
      "C:\\Users\\liuli\\anaconda3\\envs\\python38\\lib\\site-packages\\mlflow\\protos\\databricks_pb2.py:66: DeprecationWarning: Call to deprecated create function EnumValueDescriptor(). Note: Create unlinked descriptors is going to go away. Please use get/find descriptors from generated code or query the descriptor_pool.\n",
      "  _descriptor.EnumValueDescriptor(\n",
      "C:\\Users\\liuli\\anaconda3\\envs\\python38\\lib\\site-packages\\mlflow\\protos\\databricks_pb2.py:70: DeprecationWarning: Call to deprecated create function EnumValueDescriptor(). Note: Create unlinked descriptors is going to go away. Please use get/find descriptors from generated code or query the descriptor_pool.\n",
      "  _descriptor.EnumValueDescriptor(\n",
      "C:\\Users\\liuli\\anaconda3\\envs\\python38\\lib\\site-packages\\mlflow\\protos\\databricks_pb2.py:74: DeprecationWarning: Call to deprecated create function EnumValueDescriptor(). Note: Create unlinked descriptors is going to go away. Please use get/find descriptors from generated code or query the descriptor_pool.\n",
      "  _descriptor.EnumValueDescriptor(\n",
      "C:\\Users\\liuli\\anaconda3\\envs\\python38\\lib\\site-packages\\mlflow\\protos\\databricks_pb2.py:78: DeprecationWarning: Call to deprecated create function EnumValueDescriptor(). Note: Create unlinked descriptors is going to go away. Please use get/find descriptors from generated code or query the descriptor_pool.\n",
      "  _descriptor.EnumValueDescriptor(\n",
      "C:\\Users\\liuli\\anaconda3\\envs\\python38\\lib\\site-packages\\mlflow\\protos\\databricks_pb2.py:82: DeprecationWarning: Call to deprecated create function EnumValueDescriptor(). Note: Create unlinked descriptors is going to go away. Please use get/find descriptors from generated code or query the descriptor_pool.\n",
      "  _descriptor.EnumValueDescriptor(\n",
      "C:\\Users\\liuli\\anaconda3\\envs\\python38\\lib\\site-packages\\mlflow\\protos\\databricks_pb2.py:86: DeprecationWarning: Call to deprecated create function EnumValueDescriptor(). Note: Create unlinked descriptors is going to go away. Please use get/find descriptors from generated code or query the descriptor_pool.\n",
      "  _descriptor.EnumValueDescriptor(\n",
      "C:\\Users\\liuli\\anaconda3\\envs\\python38\\lib\\site-packages\\mlflow\\protos\\databricks_pb2.py:90: DeprecationWarning: Call to deprecated create function EnumValueDescriptor(). Note: Create unlinked descriptors is going to go away. Please use get/find descriptors from generated code or query the descriptor_pool.\n",
      "  _descriptor.EnumValueDescriptor(\n",
      "C:\\Users\\liuli\\anaconda3\\envs\\python38\\lib\\site-packages\\mlflow\\protos\\databricks_pb2.py:94: DeprecationWarning: Call to deprecated create function EnumValueDescriptor(). Note: Create unlinked descriptors is going to go away. Please use get/find descriptors from generated code or query the descriptor_pool.\n",
      "  _descriptor.EnumValueDescriptor(\n",
      "C:\\Users\\liuli\\anaconda3\\envs\\python38\\lib\\site-packages\\mlflow\\protos\\databricks_pb2.py:98: DeprecationWarning: Call to deprecated create function EnumValueDescriptor(). Note: Create unlinked descriptors is going to go away. Please use get/find descriptors from generated code or query the descriptor_pool.\n",
      "  _descriptor.EnumValueDescriptor(\n",
      "C:\\Users\\liuli\\anaconda3\\envs\\python38\\lib\\site-packages\\mlflow\\protos\\databricks_pb2.py:102: DeprecationWarning: Call to deprecated create function EnumValueDescriptor(). Note: Create unlinked descriptors is going to go away. Please use get/find descriptors from generated code or query the descriptor_pool.\n",
      "  _descriptor.EnumValueDescriptor(\n",
      "C:\\Users\\liuli\\anaconda3\\envs\\python38\\lib\\site-packages\\mlflow\\protos\\databricks_pb2.py:106: DeprecationWarning: Call to deprecated create function EnumValueDescriptor(). Note: Create unlinked descriptors is going to go away. Please use get/find descriptors from generated code or query the descriptor_pool.\n",
      "  _descriptor.EnumValueDescriptor(\n",
      "C:\\Users\\liuli\\anaconda3\\envs\\python38\\lib\\site-packages\\mlflow\\protos\\databricks_pb2.py:110: DeprecationWarning: Call to deprecated create function EnumValueDescriptor(). Note: Create unlinked descriptors is going to go away. Please use get/find descriptors from generated code or query the descriptor_pool.\n",
      "  _descriptor.EnumValueDescriptor(\n",
      "C:\\Users\\liuli\\anaconda3\\envs\\python38\\lib\\site-packages\\mlflow\\protos\\databricks_pb2.py:114: DeprecationWarning: Call to deprecated create function EnumValueDescriptor(). Note: Create unlinked descriptors is going to go away. Please use get/find descriptors from generated code or query the descriptor_pool.\n",
      "  _descriptor.EnumValueDescriptor(\n",
      "C:\\Users\\liuli\\anaconda3\\envs\\python38\\lib\\site-packages\\mlflow\\protos\\databricks_pb2.py:118: DeprecationWarning: Call to deprecated create function EnumValueDescriptor(). Note: Create unlinked descriptors is going to go away. Please use get/find descriptors from generated code or query the descriptor_pool.\n",
      "  _descriptor.EnumValueDescriptor(\n",
      "C:\\Users\\liuli\\anaconda3\\envs\\python38\\lib\\site-packages\\mlflow\\protos\\databricks_pb2.py:122: DeprecationWarning: Call to deprecated create function EnumValueDescriptor(). Note: Create unlinked descriptors is going to go away. Please use get/find descriptors from generated code or query the descriptor_pool.\n",
      "  _descriptor.EnumValueDescriptor(\n",
      "C:\\Users\\liuli\\anaconda3\\envs\\python38\\lib\\site-packages\\mlflow\\protos\\databricks_pb2.py:126: DeprecationWarning: Call to deprecated create function EnumValueDescriptor(). Note: Create unlinked descriptors is going to go away. Please use get/find descriptors from generated code or query the descriptor_pool.\n",
      "  _descriptor.EnumValueDescriptor(\n",
      "C:\\Users\\liuli\\anaconda3\\envs\\python38\\lib\\site-packages\\mlflow\\protos\\databricks_pb2.py:130: DeprecationWarning: Call to deprecated create function EnumValueDescriptor(). Note: Create unlinked descriptors is going to go away. Please use get/find descriptors from generated code or query the descriptor_pool.\n",
      "  _descriptor.EnumValueDescriptor(\n",
      "C:\\Users\\liuli\\anaconda3\\envs\\python38\\lib\\site-packages\\mlflow\\protos\\databricks_pb2.py:134: DeprecationWarning: Call to deprecated create function EnumValueDescriptor(). Note: Create unlinked descriptors is going to go away. Please use get/find descriptors from generated code or query the descriptor_pool.\n",
      "  _descriptor.EnumValueDescriptor(\n",
      "C:\\Users\\liuli\\anaconda3\\envs\\python38\\lib\\site-packages\\mlflow\\protos\\databricks_pb2.py:138: DeprecationWarning: Call to deprecated create function EnumValueDescriptor(). Note: Create unlinked descriptors is going to go away. Please use get/find descriptors from generated code or query the descriptor_pool.\n",
      "  _descriptor.EnumValueDescriptor(\n",
      "C:\\Users\\liuli\\anaconda3\\envs\\python38\\lib\\site-packages\\mlflow\\protos\\databricks_pb2.py:142: DeprecationWarning: Call to deprecated create function EnumValueDescriptor(). Note: Create unlinked descriptors is going to go away. Please use get/find descriptors from generated code or query the descriptor_pool.\n",
      "  _descriptor.EnumValueDescriptor(\n",
      "C:\\Users\\liuli\\anaconda3\\envs\\python38\\lib\\site-packages\\mlflow\\protos\\databricks_pb2.py:146: DeprecationWarning: Call to deprecated create function EnumValueDescriptor(). Note: Create unlinked descriptors is going to go away. Please use get/find descriptors from generated code or query the descriptor_pool.\n",
      "  _descriptor.EnumValueDescriptor(\n",
      "C:\\Users\\liuli\\anaconda3\\envs\\python38\\lib\\site-packages\\mlflow\\protos\\databricks_pb2.py:150: DeprecationWarning: Call to deprecated create function EnumValueDescriptor(). Note: Create unlinked descriptors is going to go away. Please use get/find descriptors from generated code or query the descriptor_pool.\n",
      "  _descriptor.EnumValueDescriptor(\n",
      "C:\\Users\\liuli\\anaconda3\\envs\\python38\\lib\\site-packages\\mlflow\\protos\\databricks_pb2.py:154: DeprecationWarning: Call to deprecated create function EnumValueDescriptor(). Note: Create unlinked descriptors is going to go away. Please use get/find descriptors from generated code or query the descriptor_pool.\n",
      "  _descriptor.EnumValueDescriptor(\n",
      "C:\\Users\\liuli\\anaconda3\\envs\\python38\\lib\\site-packages\\mlflow\\protos\\databricks_pb2.py:56: DeprecationWarning: Call to deprecated create function EnumDescriptor(). Note: Create unlinked descriptors is going to go away. Please use get/find descriptors from generated code or query the descriptor_pool.\n",
      "  _ERRORCODE = _descriptor.EnumDescriptor(\n",
      "C:\\Users\\liuli\\anaconda3\\envs\\python38\\lib\\site-packages\\mlflow\\protos\\databricks_pb2.py:196: DeprecationWarning: Call to deprecated create function FieldDescriptor(). Note: Create unlinked descriptors is going to go away. Please use get/find descriptors from generated code or query the descriptor_pool.\n",
      "  visibility = _descriptor.FieldDescriptor(\n",
      "C:\\Users\\liuli\\anaconda3\\envs\\python38\\lib\\site-packages\\mlflow\\protos\\databricks_pb2.py:204: DeprecationWarning: Call to deprecated create function FieldDescriptor(). Note: Create unlinked descriptors is going to go away. Please use get/find descriptors from generated code or query the descriptor_pool.\n",
      "  validate_required = _descriptor.FieldDescriptor(\n",
      "C:\\Users\\liuli\\anaconda3\\envs\\python38\\lib\\site-packages\\mlflow\\protos\\databricks_pb2.py:212: DeprecationWarning: Call to deprecated create function FieldDescriptor(). Note: Create unlinked descriptors is going to go away. Please use get/find descriptors from generated code or query the descriptor_pool.\n",
      "  json_inline = _descriptor.FieldDescriptor(\n",
      "C:\\Users\\liuli\\anaconda3\\envs\\python38\\lib\\site-packages\\mlflow\\protos\\databricks_pb2.py:220: DeprecationWarning: Call to deprecated create function FieldDescriptor(). Note: Create unlinked descriptors is going to go away. Please use get/find descriptors from generated code or query the descriptor_pool.\n",
      "  json_map = _descriptor.FieldDescriptor(\n",
      "C:\\Users\\liuli\\anaconda3\\envs\\python38\\lib\\site-packages\\mlflow\\protos\\databricks_pb2.py:228: DeprecationWarning: Call to deprecated create function FieldDescriptor(). Note: Create unlinked descriptors is going to go away. Please use get/find descriptors from generated code or query the descriptor_pool.\n",
      "  field_doc = _descriptor.FieldDescriptor(\n",
      "C:\\Users\\liuli\\anaconda3\\envs\\python38\\lib\\site-packages\\mlflow\\protos\\databricks_pb2.py:236: DeprecationWarning: Call to deprecated create function FieldDescriptor(). Note: Create unlinked descriptors is going to go away. Please use get/find descriptors from generated code or query the descriptor_pool.\n",
      "  rpc = _descriptor.FieldDescriptor(\n",
      "C:\\Users\\liuli\\anaconda3\\envs\\python38\\lib\\site-packages\\mlflow\\protos\\databricks_pb2.py:244: DeprecationWarning: Call to deprecated create function FieldDescriptor(). Note: Create unlinked descriptors is going to go away. Please use get/find descriptors from generated code or query the descriptor_pool.\n",
      "  method_doc = _descriptor.FieldDescriptor(\n",
      "C:\\Users\\liuli\\anaconda3\\envs\\python38\\lib\\site-packages\\mlflow\\protos\\databricks_pb2.py:252: DeprecationWarning: Call to deprecated create function FieldDescriptor(). Note: Create unlinked descriptors is going to go away. Please use get/find descriptors from generated code or query the descriptor_pool.\n",
      "  message_doc = _descriptor.FieldDescriptor(\n",
      "C:\\Users\\liuli\\anaconda3\\envs\\python38\\lib\\site-packages\\mlflow\\protos\\databricks_pb2.py:260: DeprecationWarning: Call to deprecated create function FieldDescriptor(). Note: Create unlinked descriptors is going to go away. Please use get/find descriptors from generated code or query the descriptor_pool.\n",
      "  service_doc = _descriptor.FieldDescriptor(\n",
      "C:\\Users\\liuli\\anaconda3\\envs\\python38\\lib\\site-packages\\mlflow\\protos\\databricks_pb2.py:268: DeprecationWarning: Call to deprecated create function FieldDescriptor(). Note: Create unlinked descriptors is going to go away. Please use get/find descriptors from generated code or query the descriptor_pool.\n",
      "  enum_doc = _descriptor.FieldDescriptor(\n",
      "C:\\Users\\liuli\\anaconda3\\envs\\python38\\lib\\site-packages\\mlflow\\protos\\databricks_pb2.py:276: DeprecationWarning: Call to deprecated create function FieldDescriptor(). Note: Create unlinked descriptors is going to go away. Please use get/find descriptors from generated code or query the descriptor_pool.\n",
      "  enum_value_visibility = _descriptor.FieldDescriptor(\n",
      "C:\\Users\\liuli\\anaconda3\\envs\\python38\\lib\\site-packages\\mlflow\\protos\\databricks_pb2.py:284: DeprecationWarning: Call to deprecated create function FieldDescriptor(). Note: Create unlinked descriptors is going to go away. Please use get/find descriptors from generated code or query the descriptor_pool.\n",
      "  enum_value_doc = _descriptor.FieldDescriptor(\n",
      "C:\\Users\\liuli\\anaconda3\\envs\\python38\\lib\\site-packages\\mlflow\\protos\\databricks_pb2.py:300: DeprecationWarning: Call to deprecated create function FieldDescriptor(). Note: Create unlinked descriptors is going to go away. Please use get/find descriptors from generated code or query the descriptor_pool.\n",
      "  _descriptor.FieldDescriptor(\n",
      "C:\\Users\\liuli\\anaconda3\\envs\\python38\\lib\\site-packages\\mlflow\\protos\\databricks_pb2.py:307: DeprecationWarning: Call to deprecated create function FieldDescriptor(). Note: Create unlinked descriptors is going to go away. Please use get/find descriptors from generated code or query the descriptor_pool.\n",
      "  _descriptor.FieldDescriptor(\n",
      "C:\\Users\\liuli\\anaconda3\\envs\\python38\\lib\\site-packages\\mlflow\\protos\\databricks_pb2.py:314: DeprecationWarning: Call to deprecated create function FieldDescriptor(). Note: Create unlinked descriptors is going to go away. Please use get/find descriptors from generated code or query the descriptor_pool.\n",
      "  _descriptor.FieldDescriptor(\n",
      "C:\\Users\\liuli\\anaconda3\\envs\\python38\\lib\\site-packages\\mlflow\\protos\\databricks_pb2.py:321: DeprecationWarning: Call to deprecated create function FieldDescriptor(). Note: Create unlinked descriptors is going to go away. Please use get/find descriptors from generated code or query the descriptor_pool.\n",
      "  _descriptor.FieldDescriptor(\n",
      "C:\\Users\\liuli\\anaconda3\\envs\\python38\\lib\\site-packages\\mlflow\\protos\\databricks_pb2.py:328: DeprecationWarning: Call to deprecated create function FieldDescriptor(). Note: Create unlinked descriptors is going to go away. Please use get/find descriptors from generated code or query the descriptor_pool.\n",
      "  _descriptor.FieldDescriptor(\n",
      "C:\\Users\\liuli\\anaconda3\\envs\\python38\\lib\\site-packages\\mlflow\\protos\\databricks_pb2.py:293: DeprecationWarning: Call to deprecated create function Descriptor(). Note: Create unlinked descriptors is going to go away. Please use get/find descriptors from generated code or query the descriptor_pool.\n",
      "  _DATABRICKSRPCOPTIONS = _descriptor.Descriptor(\n",
      "C:\\Users\\liuli\\anaconda3\\envs\\python38\\lib\\site-packages\\mlflow\\protos\\databricks_pb2.py:359: DeprecationWarning: Call to deprecated create function FieldDescriptor(). Note: Create unlinked descriptors is going to go away. Please use get/find descriptors from generated code or query the descriptor_pool.\n",
      "  _descriptor.FieldDescriptor(\n",
      "C:\\Users\\liuli\\anaconda3\\envs\\python38\\lib\\site-packages\\mlflow\\protos\\databricks_pb2.py:366: DeprecationWarning: Call to deprecated create function FieldDescriptor(). Note: Create unlinked descriptors is going to go away. Please use get/find descriptors from generated code or query the descriptor_pool.\n",
      "  _descriptor.FieldDescriptor(\n",
      "C:\\Users\\liuli\\anaconda3\\envs\\python38\\lib\\site-packages\\mlflow\\protos\\databricks_pb2.py:373: DeprecationWarning: Call to deprecated create function FieldDescriptor(). Note: Create unlinked descriptors is going to go away. Please use get/find descriptors from generated code or query the descriptor_pool.\n",
      "  _descriptor.FieldDescriptor(\n",
      "C:\\Users\\liuli\\anaconda3\\envs\\python38\\lib\\site-packages\\mlflow\\protos\\databricks_pb2.py:352: DeprecationWarning: Call to deprecated create function Descriptor(). Note: Create unlinked descriptors is going to go away. Please use get/find descriptors from generated code or query the descriptor_pool.\n",
      "  _HTTPENDPOINT = _descriptor.Descriptor(\n",
      "C:\\Users\\liuli\\anaconda3\\envs\\python38\\lib\\site-packages\\mlflow\\protos\\databricks_pb2.py:404: DeprecationWarning: Call to deprecated create function FieldDescriptor(). Note: Create unlinked descriptors is going to go away. Please use get/find descriptors from generated code or query the descriptor_pool.\n",
      "  _descriptor.FieldDescriptor(\n",
      "C:\\Users\\liuli\\anaconda3\\envs\\python38\\lib\\site-packages\\mlflow\\protos\\databricks_pb2.py:411: DeprecationWarning: Call to deprecated create function FieldDescriptor(). Note: Create unlinked descriptors is going to go away. Please use get/find descriptors from generated code or query the descriptor_pool.\n",
      "  _descriptor.FieldDescriptor(\n",
      "C:\\Users\\liuli\\anaconda3\\envs\\python38\\lib\\site-packages\\mlflow\\protos\\databricks_pb2.py:397: DeprecationWarning: Call to deprecated create function Descriptor(). Note: Create unlinked descriptors is going to go away. Please use get/find descriptors from generated code or query the descriptor_pool.\n",
      "  _APIVERSION = _descriptor.Descriptor(\n",
      "C:\\Users\\liuli\\anaconda3\\envs\\python38\\lib\\site-packages\\mlflow\\protos\\databricks_pb2.py:442: DeprecationWarning: Call to deprecated create function FieldDescriptor(). Note: Create unlinked descriptors is going to go away. Please use get/find descriptors from generated code or query the descriptor_pool.\n",
      "  _descriptor.FieldDescriptor(\n",
      "C:\\Users\\liuli\\anaconda3\\envs\\python38\\lib\\site-packages\\mlflow\\protos\\databricks_pb2.py:449: DeprecationWarning: Call to deprecated create function FieldDescriptor(). Note: Create unlinked descriptors is going to go away. Please use get/find descriptors from generated code or query the descriptor_pool.\n",
      "  _descriptor.FieldDescriptor(\n",
      "C:\\Users\\liuli\\anaconda3\\envs\\python38\\lib\\site-packages\\mlflow\\protos\\databricks_pb2.py:435: DeprecationWarning: Call to deprecated create function Descriptor(). Note: Create unlinked descriptors is going to go away. Please use get/find descriptors from generated code or query the descriptor_pool.\n",
      "  _RATELIMIT = _descriptor.Descriptor(\n",
      "C:\\Users\\liuli\\anaconda3\\envs\\python38\\lib\\site-packages\\mlflow\\protos\\databricks_pb2.py:480: DeprecationWarning: Call to deprecated create function FieldDescriptor(). Note: Create unlinked descriptors is going to go away. Please use get/find descriptors from generated code or query the descriptor_pool.\n",
      "  _descriptor.FieldDescriptor(\n",
      "C:\\Users\\liuli\\anaconda3\\envs\\python38\\lib\\site-packages\\mlflow\\protos\\databricks_pb2.py:487: DeprecationWarning: Call to deprecated create function FieldDescriptor(). Note: Create unlinked descriptors is going to go away. Please use get/find descriptors from generated code or query the descriptor_pool.\n",
      "  _descriptor.FieldDescriptor(\n",
      "C:\\Users\\liuli\\anaconda3\\envs\\python38\\lib\\site-packages\\mlflow\\protos\\databricks_pb2.py:494: DeprecationWarning: Call to deprecated create function FieldDescriptor(). Note: Create unlinked descriptors is going to go away. Please use get/find descriptors from generated code or query the descriptor_pool.\n",
      "  _descriptor.FieldDescriptor(\n",
      "C:\\Users\\liuli\\anaconda3\\envs\\python38\\lib\\site-packages\\mlflow\\protos\\databricks_pb2.py:501: DeprecationWarning: Call to deprecated create function FieldDescriptor(). Note: Create unlinked descriptors is going to go away. Please use get/find descriptors from generated code or query the descriptor_pool.\n",
      "  _descriptor.FieldDescriptor(\n",
      "C:\\Users\\liuli\\anaconda3\\envs\\python38\\lib\\site-packages\\mlflow\\protos\\databricks_pb2.py:508: DeprecationWarning: Call to deprecated create function FieldDescriptor(). Note: Create unlinked descriptors is going to go away. Please use get/find descriptors from generated code or query the descriptor_pool.\n",
      "  _descriptor.FieldDescriptor(\n",
      "C:\\Users\\liuli\\anaconda3\\envs\\python38\\lib\\site-packages\\mlflow\\protos\\databricks_pb2.py:473: DeprecationWarning: Call to deprecated create function Descriptor(). Note: Create unlinked descriptors is going to go away. Please use get/find descriptors from generated code or query the descriptor_pool.\n",
      "  _DOCUMENTATIONMETADATA = _descriptor.Descriptor(\n",
      "C:\\Users\\liuli\\anaconda3\\envs\\python38\\lib\\site-packages\\mlflow\\protos\\databricks_pb2.py:539: DeprecationWarning: Call to deprecated create function FieldDescriptor(). Note: Create unlinked descriptors is going to go away. Please use get/find descriptors from generated code or query the descriptor_pool.\n",
      "  _descriptor.FieldDescriptor(\n",
      "C:\\Users\\liuli\\anaconda3\\envs\\python38\\lib\\site-packages\\mlflow\\protos\\databricks_pb2.py:546: DeprecationWarning: Call to deprecated create function FieldDescriptor(). Note: Create unlinked descriptors is going to go away. Please use get/find descriptors from generated code or query the descriptor_pool.\n",
      "  _descriptor.FieldDescriptor(\n",
      "C:\\Users\\liuli\\anaconda3\\envs\\python38\\lib\\site-packages\\mlflow\\protos\\databricks_pb2.py:553: DeprecationWarning: Call to deprecated create function FieldDescriptor(). Note: Create unlinked descriptors is going to go away. Please use get/find descriptors from generated code or query the descriptor_pool.\n",
      "  _descriptor.FieldDescriptor(\n",
      "C:\\Users\\liuli\\anaconda3\\envs\\python38\\lib\\site-packages\\mlflow\\protos\\databricks_pb2.py:532: DeprecationWarning: Call to deprecated create function Descriptor(). Note: Create unlinked descriptors is going to go away. Please use get/find descriptors from generated code or query the descriptor_pool.\n",
      "  _DATABRICKSSERVICEEXCEPTIONPROTO = _descriptor.Descriptor(\n",
      "C:\\Users\\liuli\\anaconda3\\envs\\python38\\lib\\site-packages\\mlflow\\protos\\service_pb2.py:22: DeprecationWarning: Call to deprecated create function FileDescriptor(). Note: Create unlinked descriptors is going to go away. Please use get/find descriptors from generated code or query the descriptor_pool.\n",
      "  DESCRIPTOR = _descriptor.FileDescriptor(\n",
      "C:\\Users\\liuli\\anaconda3\\envs\\python38\\lib\\site-packages\\mlflow\\protos\\service_pb2.py:37: DeprecationWarning: Call to deprecated create function EnumValueDescriptor(). Note: Create unlinked descriptors is going to go away. Please use get/find descriptors from generated code or query the descriptor_pool.\n",
      "  _descriptor.EnumValueDescriptor(\n",
      "C:\\Users\\liuli\\anaconda3\\envs\\python38\\lib\\site-packages\\mlflow\\protos\\service_pb2.py:41: DeprecationWarning: Call to deprecated create function EnumValueDescriptor(). Note: Create unlinked descriptors is going to go away. Please use get/find descriptors from generated code or query the descriptor_pool.\n",
      "  _descriptor.EnumValueDescriptor(\n",
      "C:\\Users\\liuli\\anaconda3\\envs\\python38\\lib\\site-packages\\mlflow\\protos\\service_pb2.py:45: DeprecationWarning: Call to deprecated create function EnumValueDescriptor(). Note: Create unlinked descriptors is going to go away. Please use get/find descriptors from generated code or query the descriptor_pool.\n",
      "  _descriptor.EnumValueDescriptor(\n",
      "C:\\Users\\liuli\\anaconda3\\envs\\python38\\lib\\site-packages\\mlflow\\protos\\service_pb2.py:31: DeprecationWarning: Call to deprecated create function EnumDescriptor(). Note: Create unlinked descriptors is going to go away. Please use get/find descriptors from generated code or query the descriptor_pool.\n",
      "  _VIEWTYPE = _descriptor.EnumDescriptor(\n",
      "C:\\Users\\liuli\\anaconda3\\envs\\python38\\lib\\site-packages\\mlflow\\protos\\service_pb2.py:64: DeprecationWarning: Call to deprecated create function EnumValueDescriptor(). Note: Create unlinked descriptors is going to go away. Please use get/find descriptors from generated code or query the descriptor_pool.\n",
      "  _descriptor.EnumValueDescriptor(\n",
      "C:\\Users\\liuli\\anaconda3\\envs\\python38\\lib\\site-packages\\mlflow\\protos\\service_pb2.py:68: DeprecationWarning: Call to deprecated create function EnumValueDescriptor(). Note: Create unlinked descriptors is going to go away. Please use get/find descriptors from generated code or query the descriptor_pool.\n",
      "  _descriptor.EnumValueDescriptor(\n",
      "C:\\Users\\liuli\\anaconda3\\envs\\python38\\lib\\site-packages\\mlflow\\protos\\service_pb2.py:72: DeprecationWarning: Call to deprecated create function EnumValueDescriptor(). Note: Create unlinked descriptors is going to go away. Please use get/find descriptors from generated code or query the descriptor_pool.\n",
      "  _descriptor.EnumValueDescriptor(\n",
      "C:\\Users\\liuli\\anaconda3\\envs\\python38\\lib\\site-packages\\mlflow\\protos\\service_pb2.py:76: DeprecationWarning: Call to deprecated create function EnumValueDescriptor(). Note: Create unlinked descriptors is going to go away. Please use get/find descriptors from generated code or query the descriptor_pool.\n",
      "  _descriptor.EnumValueDescriptor(\n",
      "C:\\Users\\liuli\\anaconda3\\envs\\python38\\lib\\site-packages\\mlflow\\protos\\service_pb2.py:80: DeprecationWarning: Call to deprecated create function EnumValueDescriptor(). Note: Create unlinked descriptors is going to go away. Please use get/find descriptors from generated code or query the descriptor_pool.\n",
      "  _descriptor.EnumValueDescriptor(\n",
      "C:\\Users\\liuli\\anaconda3\\envs\\python38\\lib\\site-packages\\mlflow\\protos\\service_pb2.py:58: DeprecationWarning: Call to deprecated create function EnumDescriptor(). Note: Create unlinked descriptors is going to go away. Please use get/find descriptors from generated code or query the descriptor_pool.\n",
      "  _SOURCETYPE = _descriptor.EnumDescriptor(\n",
      "C:\\Users\\liuli\\anaconda3\\envs\\python38\\lib\\site-packages\\mlflow\\protos\\service_pb2.py:99: DeprecationWarning: Call to deprecated create function EnumValueDescriptor(). Note: Create unlinked descriptors is going to go away. Please use get/find descriptors from generated code or query the descriptor_pool.\n",
      "  _descriptor.EnumValueDescriptor(\n",
      "C:\\Users\\liuli\\anaconda3\\envs\\python38\\lib\\site-packages\\mlflow\\protos\\service_pb2.py:103: DeprecationWarning: Call to deprecated create function EnumValueDescriptor(). Note: Create unlinked descriptors is going to go away. Please use get/find descriptors from generated code or query the descriptor_pool.\n",
      "  _descriptor.EnumValueDescriptor(\n",
      "C:\\Users\\liuli\\anaconda3\\envs\\python38\\lib\\site-packages\\mlflow\\protos\\service_pb2.py:107: DeprecationWarning: Call to deprecated create function EnumValueDescriptor(). Note: Create unlinked descriptors is going to go away. Please use get/find descriptors from generated code or query the descriptor_pool.\n",
      "  _descriptor.EnumValueDescriptor(\n",
      "C:\\Users\\liuli\\anaconda3\\envs\\python38\\lib\\site-packages\\mlflow\\protos\\service_pb2.py:111: DeprecationWarning: Call to deprecated create function EnumValueDescriptor(). Note: Create unlinked descriptors is going to go away. Please use get/find descriptors from generated code or query the descriptor_pool.\n",
      "  _descriptor.EnumValueDescriptor(\n",
      "C:\\Users\\liuli\\anaconda3\\envs\\python38\\lib\\site-packages\\mlflow\\protos\\service_pb2.py:115: DeprecationWarning: Call to deprecated create function EnumValueDescriptor(). Note: Create unlinked descriptors is going to go away. Please use get/find descriptors from generated code or query the descriptor_pool.\n",
      "  _descriptor.EnumValueDescriptor(\n",
      "C:\\Users\\liuli\\anaconda3\\envs\\python38\\lib\\site-packages\\mlflow\\protos\\service_pb2.py:93: DeprecationWarning: Call to deprecated create function EnumDescriptor(). Note: Create unlinked descriptors is going to go away. Please use get/find descriptors from generated code or query the descriptor_pool.\n",
      "  _RUNSTATUS = _descriptor.EnumDescriptor(\n",
      "C:\\Users\\liuli\\anaconda3\\envs\\python38\\lib\\site-packages\\mlflow\\protos\\service_pb2.py:151: DeprecationWarning: Call to deprecated create function FieldDescriptor(). Note: Create unlinked descriptors is going to go away. Please use get/find descriptors from generated code or query the descriptor_pool.\n",
      "  _descriptor.FieldDescriptor(\n",
      "C:\\Users\\liuli\\anaconda3\\envs\\python38\\lib\\site-packages\\mlflow\\protos\\service_pb2.py:158: DeprecationWarning: Call to deprecated create function FieldDescriptor(). Note: Create unlinked descriptors is going to go away. Please use get/find descriptors from generated code or query the descriptor_pool.\n",
      "  _descriptor.FieldDescriptor(\n",
      "C:\\Users\\liuli\\anaconda3\\envs\\python38\\lib\\site-packages\\mlflow\\protos\\service_pb2.py:165: DeprecationWarning: Call to deprecated create function FieldDescriptor(). Note: Create unlinked descriptors is going to go away. Please use get/find descriptors from generated code or query the descriptor_pool.\n",
      "  _descriptor.FieldDescriptor(\n"
     ]
    },
    {
     "name": "stderr",
     "output_type": "stream",
     "text": [
      "ERROR:root:Internal Python error in the inspect module.\n",
      "Below is the traceback from this internal error.\n",
      "\n"
     ]
    },
    {
     "name": "stdout",
     "output_type": "stream",
     "text": [
      "Traceback (most recent call last):\n",
      "  File \"C:\\Users\\liuli\\anaconda3\\envs\\python38\\lib\\site-packages\\pycaret\\nlp.py\", line 313, in setup\n",
      "    sp = spacy.load(\"en_core_web_sm\", disable=[\"parser\", \"ner\"])\n",
      "  File \"C:\\Users\\liuli\\anaconda3\\envs\\python38\\lib\\site-packages\\spacy\\__init__.py\", line 30, in load\n",
      "    return util.load_model(name, **overrides)\n",
      "  File \"C:\\Users\\liuli\\anaconda3\\envs\\python38\\lib\\site-packages\\spacy\\util.py\", line 175, in load_model\n",
      "    raise IOError(Errors.E050.format(name=name))\n",
      "OSError: [E050] Can't find model 'en_core_web_sm'. It doesn't seem to be a shortcut link, a Python package or a valid path to a data directory.\n",
      "\n",
      "During handling of the above exception, another exception occurred:\n",
      "\n",
      "Traceback (most recent call last):\n",
      "  File \"C:\\Users\\liuli\\anaconda3\\envs\\python38\\lib\\site-packages\\IPython\\core\\interactiveshell.py\", line 3441, in run_code\n",
      "    exec(code_obj, self.user_global_ns, self.user_ns)\n",
      "  File \"C:\\Users\\liuli\\AppData\\Local\\Temp/ipykernel_14328/1258638622.py\", line 2, in <module>\n",
      "    exp_nlp101 = setup(data = data, target = 'en', session_id = 123)\n",
      "  File \"C:\\Users\\liuli\\anaconda3\\envs\\python38\\lib\\site-packages\\pycaret\\nlp.py\", line 315, in setup\n",
      "    sys.exit(\n",
      "SystemExit: (Type Error): spacy english model is not yet downloaded. See the documentation of setup to see installation guide.\n",
      "\n",
      "During handling of the above exception, another exception occurred:\n",
      "\n",
      "Traceback (most recent call last):\n",
      "  File \"C:\\Users\\liuli\\anaconda3\\envs\\python38\\lib\\site-packages\\IPython\\core\\ultratb.py\", line 1101, in get_records\n",
      "    return _fixed_getinnerframes(etb, number_of_lines_of_context, tb_offset)\n",
      "  File \"C:\\Users\\liuli\\anaconda3\\envs\\python38\\lib\\site-packages\\IPython\\core\\ultratb.py\", line 248, in wrapped\n",
      "    return f(*args, **kwargs)\n",
      "  File \"C:\\Users\\liuli\\anaconda3\\envs\\python38\\lib\\site-packages\\IPython\\core\\ultratb.py\", line 281, in _fixed_getinnerframes\n",
      "    records = fix_frame_records_filenames(inspect.getinnerframes(etb, context))\n",
      "  File \"C:\\Users\\liuli\\anaconda3\\envs\\python38\\lib\\inspect.py\", line 1515, in getinnerframes\n",
      "    frameinfo = (tb.tb_frame,) + getframeinfo(tb, context)\n",
      "AttributeError: 'tuple' object has no attribute 'tb_frame'\n"
     ]
    },
    {
     "ename": "TypeError",
     "evalue": "object of type 'NoneType' has no len()",
     "output_type": "error",
     "traceback": [
      "\u001B[1;31m---------------------------------------------------------------------------\u001B[0m",
      "\u001B[1;31mOSError\u001B[0m                                   Traceback (most recent call last)",
      "\u001B[1;32m~\\anaconda3\\envs\\python38\\lib\\site-packages\\pycaret\\nlp.py\u001B[0m in \u001B[0;36msetup\u001B[1;34m(data, target, custom_stopwords, html, session_id, log_experiment, experiment_name, log_plots, log_data, verbose)\u001B[0m\n\u001B[0;32m    312\u001B[0m \u001B[1;33m\u001B[0m\u001B[0m\n\u001B[1;32m--> 313\u001B[1;33m         \u001B[0msp\u001B[0m \u001B[1;33m=\u001B[0m \u001B[0mspacy\u001B[0m\u001B[1;33m.\u001B[0m\u001B[0mload\u001B[0m\u001B[1;33m(\u001B[0m\u001B[1;34m\"en_core_web_sm\"\u001B[0m\u001B[1;33m,\u001B[0m \u001B[0mdisable\u001B[0m\u001B[1;33m=\u001B[0m\u001B[1;33m[\u001B[0m\u001B[1;34m\"parser\"\u001B[0m\u001B[1;33m,\u001B[0m \u001B[1;34m\"ner\"\u001B[0m\u001B[1;33m]\u001B[0m\u001B[1;33m)\u001B[0m\u001B[1;33m\u001B[0m\u001B[1;33m\u001B[0m\u001B[0m\n\u001B[0m\u001B[0;32m    314\u001B[0m     \u001B[1;32mexcept\u001B[0m\u001B[1;33m:\u001B[0m\u001B[1;33m\u001B[0m\u001B[1;33m\u001B[0m\u001B[0m\n",
      "\u001B[1;32m~\\anaconda3\\envs\\python38\\lib\\site-packages\\spacy\\__init__.py\u001B[0m in \u001B[0;36mload\u001B[1;34m(name, **overrides)\u001B[0m\n\u001B[0;32m     29\u001B[0m         \u001B[0mwarnings\u001B[0m\u001B[1;33m.\u001B[0m\u001B[0mwarn\u001B[0m\u001B[1;33m(\u001B[0m\u001B[0mWarnings\u001B[0m\u001B[1;33m.\u001B[0m\u001B[0mW001\u001B[0m\u001B[1;33m.\u001B[0m\u001B[0mformat\u001B[0m\u001B[1;33m(\u001B[0m\u001B[0mpath\u001B[0m\u001B[1;33m=\u001B[0m\u001B[0mdepr_path\u001B[0m\u001B[1;33m)\u001B[0m\u001B[1;33m,\u001B[0m \u001B[0mDeprecationWarning\u001B[0m\u001B[1;33m)\u001B[0m\u001B[1;33m\u001B[0m\u001B[1;33m\u001B[0m\u001B[0m\n\u001B[1;32m---> 30\u001B[1;33m     \u001B[1;32mreturn\u001B[0m \u001B[0mutil\u001B[0m\u001B[1;33m.\u001B[0m\u001B[0mload_model\u001B[0m\u001B[1;33m(\u001B[0m\u001B[0mname\u001B[0m\u001B[1;33m,\u001B[0m \u001B[1;33m**\u001B[0m\u001B[0moverrides\u001B[0m\u001B[1;33m)\u001B[0m\u001B[1;33m\u001B[0m\u001B[1;33m\u001B[0m\u001B[0m\n\u001B[0m\u001B[0;32m     31\u001B[0m \u001B[1;33m\u001B[0m\u001B[0m\n",
      "\u001B[1;32m~\\anaconda3\\envs\\python38\\lib\\site-packages\\spacy\\util.py\u001B[0m in \u001B[0;36mload_model\u001B[1;34m(name, **overrides)\u001B[0m\n\u001B[0;32m    174\u001B[0m         \u001B[1;32mreturn\u001B[0m \u001B[0mload_model_from_path\u001B[0m\u001B[1;33m(\u001B[0m\u001B[0mname\u001B[0m\u001B[1;33m,\u001B[0m \u001B[1;33m**\u001B[0m\u001B[0moverrides\u001B[0m\u001B[1;33m)\u001B[0m\u001B[1;33m\u001B[0m\u001B[1;33m\u001B[0m\u001B[0m\n\u001B[1;32m--> 175\u001B[1;33m     \u001B[1;32mraise\u001B[0m \u001B[0mIOError\u001B[0m\u001B[1;33m(\u001B[0m\u001B[0mErrors\u001B[0m\u001B[1;33m.\u001B[0m\u001B[0mE050\u001B[0m\u001B[1;33m.\u001B[0m\u001B[0mformat\u001B[0m\u001B[1;33m(\u001B[0m\u001B[0mname\u001B[0m\u001B[1;33m=\u001B[0m\u001B[0mname\u001B[0m\u001B[1;33m)\u001B[0m\u001B[1;33m)\u001B[0m\u001B[1;33m\u001B[0m\u001B[1;33m\u001B[0m\u001B[0m\n\u001B[0m\u001B[0;32m    176\u001B[0m \u001B[1;33m\u001B[0m\u001B[0m\n",
      "\u001B[1;31mOSError\u001B[0m: [E050] Can't find model 'en_core_web_sm'. It doesn't seem to be a shortcut link, a Python package or a valid path to a data directory.",
      "\nDuring handling of the above exception, another exception occurred:\n",
      "\u001B[1;31mSystemExit\u001B[0m                                Traceback (most recent call last)",
      "    \u001B[1;31m[... skipping hidden 1 frame]\u001B[0m\n",
      "\u001B[1;32m~\\AppData\\Local\\Temp/ipykernel_14328/1258638622.py\u001B[0m in \u001B[0;36m<module>\u001B[1;34m\u001B[0m\n\u001B[0;32m      1\u001B[0m \u001B[1;32mfrom\u001B[0m \u001B[0mpycaret\u001B[0m\u001B[1;33m.\u001B[0m\u001B[0mnlp\u001B[0m \u001B[1;32mimport\u001B[0m \u001B[1;33m*\u001B[0m\u001B[1;33m\u001B[0m\u001B[1;33m\u001B[0m\u001B[0m\n\u001B[1;32m----> 2\u001B[1;33m \u001B[0mexp_nlp101\u001B[0m \u001B[1;33m=\u001B[0m \u001B[0msetup\u001B[0m\u001B[1;33m(\u001B[0m\u001B[0mdata\u001B[0m \u001B[1;33m=\u001B[0m \u001B[0mdata\u001B[0m\u001B[1;33m,\u001B[0m \u001B[0mtarget\u001B[0m \u001B[1;33m=\u001B[0m \u001B[1;34m'en'\u001B[0m\u001B[1;33m,\u001B[0m \u001B[0msession_id\u001B[0m \u001B[1;33m=\u001B[0m \u001B[1;36m123\u001B[0m\u001B[1;33m)\u001B[0m\u001B[1;33m\u001B[0m\u001B[1;33m\u001B[0m\u001B[0m\n\u001B[0m",
      "\u001B[1;32m~\\anaconda3\\envs\\python38\\lib\\site-packages\\pycaret\\nlp.py\u001B[0m in \u001B[0;36msetup\u001B[1;34m(data, target, custom_stopwords, html, session_id, log_experiment, experiment_name, log_plots, log_data, verbose)\u001B[0m\n\u001B[0;32m    314\u001B[0m     \u001B[1;32mexcept\u001B[0m\u001B[1;33m:\u001B[0m\u001B[1;33m\u001B[0m\u001B[1;33m\u001B[0m\u001B[0m\n\u001B[1;32m--> 315\u001B[1;33m         sys.exit(\n\u001B[0m\u001B[0;32m    316\u001B[0m             \u001B[1;34m\"(Type Error): spacy english model is not yet downloaded. See the documentation of setup to see installation guide.\"\u001B[0m\u001B[1;33m\u001B[0m\u001B[1;33m\u001B[0m\u001B[0m\n",
      "\u001B[1;31mSystemExit\u001B[0m: (Type Error): spacy english model is not yet downloaded. See the documentation of setup to see installation guide.",
      "\nDuring handling of the above exception, another exception occurred:\n",
      "\u001B[1;31mTypeError\u001B[0m                                 Traceback (most recent call last)",
      "    \u001B[1;31m[... skipping hidden 1 frame]\u001B[0m\n",
      "\u001B[1;32m~\\anaconda3\\envs\\python38\\lib\\site-packages\\IPython\\core\\interactiveshell.py\u001B[0m in \u001B[0;36mshowtraceback\u001B[1;34m(self, exc_tuple, filename, tb_offset, exception_only, running_compiled_code)\u001B[0m\n\u001B[0;32m   2052\u001B[0m                     stb = ['An exception has occurred, use %tb to see '\n\u001B[0;32m   2053\u001B[0m                            'the full traceback.\\n']\n\u001B[1;32m-> 2054\u001B[1;33m                     stb.extend(self.InteractiveTB.get_exception_only(etype,\n\u001B[0m\u001B[0;32m   2055\u001B[0m                                                                      value))\n\u001B[0;32m   2056\u001B[0m                 \u001B[1;32melse\u001B[0m\u001B[1;33m:\u001B[0m\u001B[1;33m\u001B[0m\u001B[1;33m\u001B[0m\u001B[0m\n",
      "\u001B[1;32m~\\anaconda3\\envs\\python38\\lib\\site-packages\\IPython\\core\\ultratb.py\u001B[0m in \u001B[0;36mget_exception_only\u001B[1;34m(self, etype, value)\u001B[0m\n\u001B[0;32m    752\u001B[0m         \u001B[0mvalue\u001B[0m \u001B[1;33m:\u001B[0m \u001B[0mexception\u001B[0m \u001B[0mvalue\u001B[0m\u001B[1;33m\u001B[0m\u001B[1;33m\u001B[0m\u001B[0m\n\u001B[0;32m    753\u001B[0m         \"\"\"\n\u001B[1;32m--> 754\u001B[1;33m         \u001B[1;32mreturn\u001B[0m \u001B[0mListTB\u001B[0m\u001B[1;33m.\u001B[0m\u001B[0mstructured_traceback\u001B[0m\u001B[1;33m(\u001B[0m\u001B[0mself\u001B[0m\u001B[1;33m,\u001B[0m \u001B[0metype\u001B[0m\u001B[1;33m,\u001B[0m \u001B[0mvalue\u001B[0m\u001B[1;33m)\u001B[0m\u001B[1;33m\u001B[0m\u001B[1;33m\u001B[0m\u001B[0m\n\u001B[0m\u001B[0;32m    755\u001B[0m \u001B[1;33m\u001B[0m\u001B[0m\n\u001B[0;32m    756\u001B[0m     \u001B[1;32mdef\u001B[0m \u001B[0mshow_exception_only\u001B[0m\u001B[1;33m(\u001B[0m\u001B[0mself\u001B[0m\u001B[1;33m,\u001B[0m \u001B[0metype\u001B[0m\u001B[1;33m,\u001B[0m \u001B[0mevalue\u001B[0m\u001B[1;33m)\u001B[0m\u001B[1;33m:\u001B[0m\u001B[1;33m\u001B[0m\u001B[1;33m\u001B[0m\u001B[0m\n",
      "\u001B[1;32m~\\anaconda3\\envs\\python38\\lib\\site-packages\\IPython\\core\\ultratb.py\u001B[0m in \u001B[0;36mstructured_traceback\u001B[1;34m(self, etype, evalue, etb, tb_offset, context)\u001B[0m\n\u001B[0;32m    627\u001B[0m             \u001B[0mchained_exceptions_tb_offset\u001B[0m \u001B[1;33m=\u001B[0m \u001B[1;36m0\u001B[0m\u001B[1;33m\u001B[0m\u001B[1;33m\u001B[0m\u001B[0m\n\u001B[0;32m    628\u001B[0m             out_list = (\n\u001B[1;32m--> 629\u001B[1;33m                 self.structured_traceback(\n\u001B[0m\u001B[0;32m    630\u001B[0m                     \u001B[0metype\u001B[0m\u001B[1;33m,\u001B[0m \u001B[0mevalue\u001B[0m\u001B[1;33m,\u001B[0m \u001B[1;33m(\u001B[0m\u001B[0metb\u001B[0m\u001B[1;33m,\u001B[0m \u001B[0mchained_exc_ids\u001B[0m\u001B[1;33m)\u001B[0m\u001B[1;33m,\u001B[0m\u001B[1;33m\u001B[0m\u001B[1;33m\u001B[0m\u001B[0m\n\u001B[0;32m    631\u001B[0m                     chained_exceptions_tb_offset, context)\n",
      "\u001B[1;32m~\\anaconda3\\envs\\python38\\lib\\site-packages\\IPython\\core\\ultratb.py\u001B[0m in \u001B[0;36mstructured_traceback\u001B[1;34m(self, etype, value, tb, tb_offset, number_of_lines_of_context)\u001B[0m\n\u001B[0;32m   1365\u001B[0m         \u001B[1;32melse\u001B[0m\u001B[1;33m:\u001B[0m\u001B[1;33m\u001B[0m\u001B[1;33m\u001B[0m\u001B[0m\n\u001B[0;32m   1366\u001B[0m             \u001B[0mself\u001B[0m\u001B[1;33m.\u001B[0m\u001B[0mtb\u001B[0m \u001B[1;33m=\u001B[0m \u001B[0mtb\u001B[0m\u001B[1;33m\u001B[0m\u001B[1;33m\u001B[0m\u001B[0m\n\u001B[1;32m-> 1367\u001B[1;33m         return FormattedTB.structured_traceback(\n\u001B[0m\u001B[0;32m   1368\u001B[0m             self, etype, value, tb, tb_offset, number_of_lines_of_context)\n\u001B[0;32m   1369\u001B[0m \u001B[1;33m\u001B[0m\u001B[0m\n",
      "\u001B[1;32m~\\anaconda3\\envs\\python38\\lib\\site-packages\\IPython\\core\\ultratb.py\u001B[0m in \u001B[0;36mstructured_traceback\u001B[1;34m(self, etype, value, tb, tb_offset, number_of_lines_of_context)\u001B[0m\n\u001B[0;32m   1265\u001B[0m         \u001B[1;32mif\u001B[0m \u001B[0mmode\u001B[0m \u001B[1;32min\u001B[0m \u001B[0mself\u001B[0m\u001B[1;33m.\u001B[0m\u001B[0mverbose_modes\u001B[0m\u001B[1;33m:\u001B[0m\u001B[1;33m\u001B[0m\u001B[1;33m\u001B[0m\u001B[0m\n\u001B[0;32m   1266\u001B[0m             \u001B[1;31m# Verbose modes need a full traceback\u001B[0m\u001B[1;33m\u001B[0m\u001B[1;33m\u001B[0m\u001B[1;33m\u001B[0m\u001B[0m\n\u001B[1;32m-> 1267\u001B[1;33m             return VerboseTB.structured_traceback(\n\u001B[0m\u001B[0;32m   1268\u001B[0m                 \u001B[0mself\u001B[0m\u001B[1;33m,\u001B[0m \u001B[0metype\u001B[0m\u001B[1;33m,\u001B[0m \u001B[0mvalue\u001B[0m\u001B[1;33m,\u001B[0m \u001B[0mtb\u001B[0m\u001B[1;33m,\u001B[0m \u001B[0mtb_offset\u001B[0m\u001B[1;33m,\u001B[0m \u001B[0mnumber_of_lines_of_context\u001B[0m\u001B[1;33m\u001B[0m\u001B[1;33m\u001B[0m\u001B[0m\n\u001B[0;32m   1269\u001B[0m             )\n",
      "\u001B[1;32m~\\anaconda3\\envs\\python38\\lib\\site-packages\\IPython\\core\\ultratb.py\u001B[0m in \u001B[0;36mstructured_traceback\u001B[1;34m(self, etype, evalue, etb, tb_offset, number_of_lines_of_context)\u001B[0m\n\u001B[0;32m   1122\u001B[0m         \u001B[1;34m\"\"\"Return a nice text document describing the traceback.\"\"\"\u001B[0m\u001B[1;33m\u001B[0m\u001B[1;33m\u001B[0m\u001B[0m\n\u001B[0;32m   1123\u001B[0m \u001B[1;33m\u001B[0m\u001B[0m\n\u001B[1;32m-> 1124\u001B[1;33m         formatted_exception = self.format_exception_as_a_whole(etype, evalue, etb, number_of_lines_of_context,\n\u001B[0m\u001B[0;32m   1125\u001B[0m                                                                tb_offset)\n\u001B[0;32m   1126\u001B[0m \u001B[1;33m\u001B[0m\u001B[0m\n",
      "\u001B[1;32m~\\anaconda3\\envs\\python38\\lib\\site-packages\\IPython\\core\\ultratb.py\u001B[0m in \u001B[0;36mformat_exception_as_a_whole\u001B[1;34m(self, etype, evalue, etb, number_of_lines_of_context, tb_offset)\u001B[0m\n\u001B[0;32m   1080\u001B[0m \u001B[1;33m\u001B[0m\u001B[0m\n\u001B[0;32m   1081\u001B[0m \u001B[1;33m\u001B[0m\u001B[0m\n\u001B[1;32m-> 1082\u001B[1;33m         \u001B[0mlast_unique\u001B[0m\u001B[1;33m,\u001B[0m \u001B[0mrecursion_repeat\u001B[0m \u001B[1;33m=\u001B[0m \u001B[0mfind_recursion\u001B[0m\u001B[1;33m(\u001B[0m\u001B[0morig_etype\u001B[0m\u001B[1;33m,\u001B[0m \u001B[0mevalue\u001B[0m\u001B[1;33m,\u001B[0m \u001B[0mrecords\u001B[0m\u001B[1;33m)\u001B[0m\u001B[1;33m\u001B[0m\u001B[1;33m\u001B[0m\u001B[0m\n\u001B[0m\u001B[0;32m   1083\u001B[0m \u001B[1;33m\u001B[0m\u001B[0m\n\u001B[0;32m   1084\u001B[0m         \u001B[0mframes\u001B[0m \u001B[1;33m=\u001B[0m \u001B[0mself\u001B[0m\u001B[1;33m.\u001B[0m\u001B[0mformat_records\u001B[0m\u001B[1;33m(\u001B[0m\u001B[0mrecords\u001B[0m\u001B[1;33m,\u001B[0m \u001B[0mlast_unique\u001B[0m\u001B[1;33m,\u001B[0m \u001B[0mrecursion_repeat\u001B[0m\u001B[1;33m)\u001B[0m\u001B[1;33m\u001B[0m\u001B[1;33m\u001B[0m\u001B[0m\n",
      "\u001B[1;32m~\\anaconda3\\envs\\python38\\lib\\site-packages\\IPython\\core\\ultratb.py\u001B[0m in \u001B[0;36mfind_recursion\u001B[1;34m(etype, value, records)\u001B[0m\n\u001B[0;32m    380\u001B[0m     \u001B[1;31m# first frame (from in to out) that looks different.\u001B[0m\u001B[1;33m\u001B[0m\u001B[1;33m\u001B[0m\u001B[1;33m\u001B[0m\u001B[0m\n\u001B[0;32m    381\u001B[0m     \u001B[1;32mif\u001B[0m \u001B[1;32mnot\u001B[0m \u001B[0mis_recursion_error\u001B[0m\u001B[1;33m(\u001B[0m\u001B[0metype\u001B[0m\u001B[1;33m,\u001B[0m \u001B[0mvalue\u001B[0m\u001B[1;33m,\u001B[0m \u001B[0mrecords\u001B[0m\u001B[1;33m)\u001B[0m\u001B[1;33m:\u001B[0m\u001B[1;33m\u001B[0m\u001B[1;33m\u001B[0m\u001B[0m\n\u001B[1;32m--> 382\u001B[1;33m         \u001B[1;32mreturn\u001B[0m \u001B[0mlen\u001B[0m\u001B[1;33m(\u001B[0m\u001B[0mrecords\u001B[0m\u001B[1;33m)\u001B[0m\u001B[1;33m,\u001B[0m \u001B[1;36m0\u001B[0m\u001B[1;33m\u001B[0m\u001B[1;33m\u001B[0m\u001B[0m\n\u001B[0m\u001B[0;32m    383\u001B[0m \u001B[1;33m\u001B[0m\u001B[0m\n\u001B[0;32m    384\u001B[0m     \u001B[1;31m# Select filename, lineno, func_name to track frames with\u001B[0m\u001B[1;33m\u001B[0m\u001B[1;33m\u001B[0m\u001B[1;33m\u001B[0m\u001B[0m\n",
      "\u001B[1;31mTypeError\u001B[0m: object of type 'NoneType' has no len()"
     ]
    }
   ],
   "source": [
    "from pycaret.nlp import *\n",
    "exp_nlp101 = setup(data = data, target = 'en', session_id = 123)"
   ]
  },
  {
   "cell_type": "markdown",
   "metadata": {},
   "source": [
    "当执行setup()时，所有文本预处理步骤都会自动执行,这些步骤对于在NLP中都是必不可少的。这里极大地简化了这个过程。"
   ]
  },
  {
   "cell_type": "markdown",
   "metadata": {},
   "source": [
    "# 3.创建模型\n",
    "在PyCaret中创建topic model非常简单，使用create_model()函数创建topic model.该函数采用一个强制性参数，即模型名称作为字符串。此函数返回一个训练好的模型对象。\n",
    "\n",
    "PyCaret中有5种topic model。这里我们使用LDA模型："
   ]
  },
  {
   "cell_type": "code",
   "execution_count": 7,
   "metadata": {
    "ExecuteTime": {
     "start_time": "2020-10-26T15:34:35.317Z"
    }
   },
   "outputs": [
    {
     "name": "stderr",
     "output_type": "stream",
     "text": [
      "INFO:logs:Initializing create_model()\n",
      "INFO:logs:create_model(model=lda, multi_core=False, num_topics=None, verbose=True, system=True)\n",
      "INFO:logs:Checking exceptions\n",
      "INFO:logs:Preloading libraries\n",
      "INFO:logs:Preparing display monitor\n"
     ]
    },
    {
     "ename": "NameError",
     "evalue": "name 'html_param' is not defined",
     "output_type": "error",
     "traceback": [
      "\u001B[1;31m---------------------------------------------------------------------------\u001B[0m",
      "\u001B[1;31mNameError\u001B[0m                                 Traceback (most recent call last)",
      "\u001B[1;32m~\\AppData\\Local\\Temp/ipykernel_14328/1169214012.py\u001B[0m in \u001B[0;36m<module>\u001B[1;34m\u001B[0m\n\u001B[1;32m----> 1\u001B[1;33m \u001B[0mlda\u001B[0m \u001B[1;33m=\u001B[0m \u001B[0mcreate_model\u001B[0m\u001B[1;33m(\u001B[0m\u001B[1;34m'lda'\u001B[0m\u001B[1;33m)\u001B[0m\u001B[1;33m\u001B[0m\u001B[1;33m\u001B[0m\u001B[0m\n\u001B[0m",
      "\u001B[1;32m~\\anaconda3\\envs\\python38\\lib\\site-packages\\pycaret\\nlp.py\u001B[0m in \u001B[0;36mcreate_model\u001B[1;34m(model, multi_core, num_topics, verbose, system, **kwargs)\u001B[0m\n\u001B[0;32m   1205\u001B[0m     ).set_index(\"\")\n\u001B[0;32m   1206\u001B[0m     \u001B[1;32mif\u001B[0m \u001B[0mverbose\u001B[0m\u001B[1;33m:\u001B[0m\u001B[1;33m\u001B[0m\u001B[1;33m\u001B[0m\u001B[0m\n\u001B[1;32m-> 1207\u001B[1;33m         \u001B[1;32mif\u001B[0m \u001B[0mhtml_param\u001B[0m\u001B[1;33m:\u001B[0m\u001B[1;33m\u001B[0m\u001B[1;33m\u001B[0m\u001B[0m\n\u001B[0m\u001B[0;32m   1208\u001B[0m             \u001B[0mdisplay\u001B[0m\u001B[1;33m(\u001B[0m\u001B[0mprogress\u001B[0m\u001B[1;33m)\u001B[0m\u001B[1;33m\u001B[0m\u001B[1;33m\u001B[0m\u001B[0m\n\u001B[0;32m   1209\u001B[0m             \u001B[0mdisplay\u001B[0m\u001B[1;33m(\u001B[0m\u001B[0mmonitor\u001B[0m\u001B[1;33m,\u001B[0m \u001B[0mdisplay_id\u001B[0m\u001B[1;33m=\u001B[0m\u001B[1;34m\"monitor\"\u001B[0m\u001B[1;33m)\u001B[0m\u001B[1;33m\u001B[0m\u001B[1;33m\u001B[0m\u001B[0m\n",
      "\u001B[1;31mNameError\u001B[0m: name 'html_param' is not defined"
     ]
    }
   ],
   "source": [
    "lda = create_model('lda')"
   ]
  },
  {
   "cell_type": "code",
   "execution_count": 8,
   "metadata": {
    "ExecuteTime": {
     "start_time": "2020-10-26T15:34:35.318Z"
    }
   },
   "outputs": [
    {
     "ename": "NameError",
     "evalue": "name 'lda' is not defined",
     "output_type": "error",
     "traceback": [
      "\u001B[1;31m---------------------------------------------------------------------------\u001B[0m",
      "\u001B[1;31mNameError\u001B[0m                                 Traceback (most recent call last)",
      "\u001B[1;32m~\\AppData\\Local\\Temp/ipykernel_14328/2908373977.py\u001B[0m in \u001B[0;36m<module>\u001B[1;34m\u001B[0m\n\u001B[1;32m----> 1\u001B[1;33m \u001B[0mprint\u001B[0m\u001B[1;33m(\u001B[0m\u001B[0mlda\u001B[0m\u001B[1;33m)\u001B[0m\u001B[1;33m\u001B[0m\u001B[1;33m\u001B[0m\u001B[0m\n\u001B[0m",
      "\u001B[1;31mNameError\u001B[0m: name 'lda' is not defined"
     ]
    }
   ],
   "source": [
    "print(lda)"
   ]
  },
  {
   "cell_type": "markdown",
   "metadata": {},
   "source": [
    "# 4. 分配模型\n",
    "现在我们已经创建了一个topic model，我们将给数据集（6818个文档/样本）倒入模型加以分析结果。 我们将使用assign_model()函数来实现。"
   ]
  },
  {
   "cell_type": "code",
   "execution_count": null,
   "metadata": {
    "ExecuteTime": {
     "start_time": "2020-10-26T15:34:35.320Z"
    }
   },
   "outputs": [],
   "source": [
    "lda_results = assign_model(lda)\n",
    "lda_results.head()"
   ]
  },
  {
   "cell_type": "markdown",
   "metadata": {},
   "source": [
    "现在dataframe里增加了6个列。Topic_0 ... Topic_3是主题比例（默认分为4类，可以修改），代表每个文档的主题分布。Dominant_Topic是具有最高比例的topic编号，而Perc_Dominant_Topic是占主导topic的比例。"
   ]
  },
  {
   "cell_type": "markdown",
   "metadata": {},
   "source": [
    "# 4. 绘制图表\n",
    "plot_model()函数可用于分析整个语料库或仅分析通过主题模型提取的特定主题。 "
   ]
  },
  {
   "cell_type": "markdown",
   "metadata": {},
   "source": [
    "### 整个语料库的单词频率分布"
   ]
  },
  {
   "cell_type": "code",
   "execution_count": null,
   "metadata": {
    "ExecuteTime": {
     "start_time": "2020-10-26T15:34:35.322Z"
    }
   },
   "outputs": [],
   "source": [
    "plot_model()"
   ]
  },
  {
   "cell_type": "markdown",
   "metadata": {},
   "source": [
    "### 9.3 Topic 1的频率分布\n",
    "plot_model()也可以用于分析特定topic。"
   ]
  },
  {
   "cell_type": "code",
   "execution_count": null,
   "metadata": {
    "ExecuteTime": {
     "start_time": "2020-10-26T15:34:35.324Z"
    }
   },
   "outputs": [],
   "source": [
    "plot_model(lda, plot = 'frequency', topic_num = 'Topic 1')"
   ]
  },
  {
   "cell_type": "markdown",
   "metadata": {},
   "source": [
    "### topic的分布情况"
   ]
  },
  {
   "cell_type": "code",
   "execution_count": null,
   "metadata": {
    "ExecuteTime": {
     "start_time": "2020-10-26T15:34:35.325Z"
    }
   },
   "outputs": [],
   "source": [
    "plot_model(lda, plot = 'topic_distribution')"
   ]
  },
  {
   "cell_type": "markdown",
   "metadata": {},
   "source": [
    "### t-SNE\n",
    "T分布随机邻居嵌入（t-SNE）是一种非线性降维技术，非常适合在二维或三维低维空间中嵌入高维数据以进行可视化。"
   ]
  },
  {
   "cell_type": "code",
   "execution_count": null,
   "metadata": {
    "ExecuteTime": {
     "start_time": "2020-10-26T15:34:35.327Z"
    }
   },
   "outputs": [],
   "source": [
    "plot_model(lda, plot = 'tsne')"
   ]
  },
  {
   "cell_type": "code",
   "execution_count": null,
   "metadata": {},
   "outputs": [],
   "source": []
  },
  {
   "cell_type": "code",
   "execution_count": null,
   "metadata": {},
   "outputs": [],
   "source": []
  }
 ],
 "metadata": {
  "kernelspec": {
   "display_name": "Python 3 (ipykernel)",
   "language": "python",
   "name": "python3"
  },
  "language_info": {
   "codemirror_mode": {
    "name": "ipython",
    "version": 3
   },
   "file_extension": ".py",
   "mimetype": "text/x-python",
   "name": "python",
   "nbconvert_exporter": "python",
   "pygments_lexer": "ipython3",
   "version": "3.8.11"
  }
 },
 "nbformat": 4,
 "nbformat_minor": 4
}