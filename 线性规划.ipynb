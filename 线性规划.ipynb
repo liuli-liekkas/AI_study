{
 "cells": [
  {
   "cell_type": "markdown",
   "id": "ad1d3b74",
   "metadata": {},
   "source": [
    "# scipy\n",
    "\n",
    "scipy.optimize.linprog \n",
    "\n",
    "scipy.optimize.linprog(c, A_ub=None, b_ub=None, A_eq=None, b_eq=None, bounds=None, method='interior-point', callback=None, options=None, x0=None）\n",
    "\n",
    "线性规划：最小化受线性等式和不等式约束的线性目标函数。\n",
    "\n",
    "线性规划解决以下形式的问题：\n",
    "\n",
    "$ \\begin{align*}\n",
    "min \\quad && C^Tx \\\\\n",
    "s.t. \\quad && A_{ub}x \\leqslant b_{ub},\\\\\n",
    "~&&A_{eq}x = b_{ub},\\\\\n",
    "~&&l \\leqslant x \\leqslant u\n",
    "\\end{align*}\n",
    "$\n",
    "\n",
    "注意：scipy.optimize.linprog无法直接解整数规划问题。"
   ]
  },
  {
   "cell_type": "markdown",
   "id": "f14c510d",
   "metadata": {},
   "source": [
    "## 生产优化案例"
   ]
  },
  {
   "cell_type": "code",
   "execution_count": 1,
   "id": "8f6af84f",
   "metadata": {},
   "outputs": [],
   "source": [
    "import numpy as np\n",
    "from scipy.optimize import linprog"
   ]
  },
  {
   "cell_type": "code",
   "execution_count": 2,
   "id": "dfd657d4",
   "metadata": {},
   "outputs": [],
   "source": [
    "c = np.array([-12, -10])"
   ]
  },
  {
   "cell_type": "code",
   "execution_count": 3,
   "id": "4820e0f0",
   "metadata": {},
   "outputs": [],
   "source": [
    "A_ub = np.array([[2, 1], [1/3, 1/3], [3, 2]])"
   ]
  },
  {
   "cell_type": "code",
   "execution_count": 4,
   "id": "0bbe4c21",
   "metadata": {},
   "outputs": [],
   "source": [
    "b_ub = np.array([160, 40, 260])"
   ]
  },
  {
   "cell_type": "code",
   "execution_count": 5,
   "id": "35f7c1f8",
   "metadata": {},
   "outputs": [],
   "source": [
    "r = linprog(c, A_ub, b_ub, A_eq=None, b_eq=None, bounds=((0, None), (0, None)))"
   ]
  },
  {
   "cell_type": "code",
   "execution_count": 6,
   "id": "9e0373ae",
   "metadata": {},
   "outputs": [
    {
     "data": {
      "text/plain": [
       "     con: array([], dtype=float64)\n",
       "     fun: -1239.9998835681126\n",
       " message: 'Optimization terminated successfully.'\n",
       "     nit: 5\n",
       "   slack: array([2.00000128e+01, 3.78372053e-06, 2.41624588e-05])\n",
       "  status: 0\n",
       " success: True\n",
       "       x: array([19.99999854, 99.99999011])"
      ]
     },
     "execution_count": 6,
     "metadata": {},
     "output_type": "execute_result"
    }
   ],
   "source": [
    "r"
   ]
  },
  {
   "cell_type": "markdown",
   "id": "b87dcff6",
   "metadata": {},
   "source": [
    "## 投资组合案例"
   ]
  },
  {
   "cell_type": "code",
   "execution_count": 7,
   "id": "1cabc3f8",
   "metadata": {},
   "outputs": [],
   "source": [
    "c1 = np.array([-0.073, -0.103, -0.064, -0.075, -0.045])\n",
    "A_ub1 = np.array([[1, 1, 0, 0, 0], \n",
    "                  [0, 0, 1, 1, 0], \n",
    "                  [0, 0, 0.25, 0.25, -1],\n",
    "                  [-0.6, 0.4, 0, 0, 0]])\n",
    "b_ub1 = np.array([50000, 50000, 0, 0])\n",
    "A_eq1 = np.array([[1, 1, 1, 1, 1]])\n",
    "b_eq1 = np.array([100000])"
   ]
  },
  {
   "cell_type": "code",
   "execution_count": 8,
   "id": "bd01fa59",
   "metadata": {},
   "outputs": [],
   "source": [
    "r1 = linprog(c1, A_ub1, b_ub1, A_eq1, b_eq1)"
   ]
  },
  {
   "cell_type": "code",
   "execution_count": 9,
   "id": "b439857d",
   "metadata": {},
   "outputs": [
    {
     "data": {
      "text/plain": [
       "     con: array([4.46139893e-06])\n",
       "     fun: -7999.999998768043\n",
       " message: 'Optimization terminated successfully.'\n",
       "     nit: 7\n",
       "   slack: array([4.50570951e-06, 1.00000000e+04, 8.03972398e-06, 1.33506437e-05])\n",
       "  status: 0\n",
       " success: True\n",
       "       x: array([2.00000000e+04, 3.00000000e+04, 2.10474611e-05, 4.00000000e+04,\n",
       "       1.00000000e+04])"
      ]
     },
     "execution_count": 9,
     "metadata": {},
     "output_type": "execute_result"
    }
   ],
   "source": [
    "r1"
   ]
  },
  {
   "cell_type": "markdown",
   "id": "0df03bf8",
   "metadata": {},
   "source": [
    "注意：scipy.optimize.linprog无法直接解整数规划问题。"
   ]
  },
  {
   "cell_type": "markdown",
   "id": "804522dd",
   "metadata": {},
   "source": [
    "# PuLP\n",
    "PuLP是一个开源的第三方工具包，可以求解线性规划、整数规划、混合整数规划问题。"
   ]
  },
  {
   "cell_type": "code",
   "execution_count": 10,
   "id": "4d417da5",
   "metadata": {},
   "outputs": [
    {
     "name": "stdout",
     "output_type": "stream",
     "text": [
      "Requirement already satisfied: pulp in c:\\users\\liuli\\anaconda3\\envs\\python38\\lib\\site-packages (2.5.1)\n"
     ]
    },
    {
     "name": "stderr",
     "output_type": "stream",
     "text": [
      "WARNING: Error parsing requirements for pyqt5: [Errno 2] No such file or directory: 'c:\\\\users\\\\liuli\\\\anaconda3\\\\envs\\\\python38\\\\lib\\\\site-packages\\\\PyQt5-5.15.4.dist-info\\\\METADATA'\n"
     ]
    }
   ],
   "source": [
    "!pip install pulp"
   ]
  },
  {
   "cell_type": "code",
   "execution_count": 11,
   "id": "da0657af",
   "metadata": {},
   "outputs": [],
   "source": [
    "import pulp as pl"
   ]
  },
  {
   "cell_type": "code",
   "execution_count": 12,
   "id": "7fdaf876",
   "metadata": {},
   "outputs": [],
   "source": [
    "solver_list = pl.listSolvers()"
   ]
  },
  {
   "cell_type": "code",
   "execution_count": 13,
   "id": "47a3a4a5",
   "metadata": {},
   "outputs": [
    {
     "data": {
      "text/plain": [
       "['GLPK_CMD',\n",
       " 'PYGLPK',\n",
       " 'CPLEX_CMD',\n",
       " 'CPLEX_PY',\n",
       " 'GUROBI',\n",
       " 'GUROBI_CMD',\n",
       " 'MOSEK',\n",
       " 'XPRESS',\n",
       " 'PULP_CBC_CMD',\n",
       " 'COIN_CMD',\n",
       " 'COINMP_DLL',\n",
       " 'CHOCO_CMD',\n",
       " 'PULP_CHOCO_CMD',\n",
       " 'MIPCL_CMD',\n",
       " 'SCIP_CMD']"
      ]
     },
     "execution_count": 13,
     "metadata": {},
     "output_type": "execute_result"
    }
   ],
   "source": [
    "solver_list"
   ]
  },
  {
   "cell_type": "code",
   "execution_count": 14,
   "id": "ee79edee",
   "metadata": {},
   "outputs": [],
   "source": [
    "solver_list_available = pl.listSolvers(onlyAvailable=True)"
   ]
  },
  {
   "cell_type": "code",
   "execution_count": 15,
   "id": "c7f43909",
   "metadata": {},
   "outputs": [
    {
     "data": {
      "text/plain": [
       "['GLPK_CMD']"
      ]
     },
     "execution_count": 15,
     "metadata": {},
     "output_type": "execute_result"
    }
   ],
   "source": [
    "solver_list_available"
   ]
  },
  {
   "cell_type": "code",
   "execution_count": 16,
   "id": "aefc31f2",
   "metadata": {},
   "outputs": [
    {
     "name": "stderr",
     "output_type": "stream",
     "text": [
      "C:\\Users\\liuli\\anaconda3\\envs\\python38\\lib\\site-packages\\pulp\\pulp.py:1313: UserWarning: Spaces are not permitted in the name. Converted to '_'\n",
      "  warnings.warn(\"Spaces are not permitted in the name. Converted to '_'\")\n"
     ]
    }
   ],
   "source": [
    "# 定义问题\n",
    "model = pl.LpProblem(\"Profit maximising problem\", pl.LpMaximize)"
   ]
  },
  {
   "cell_type": "code",
   "execution_count": 17,
   "id": "04b36026",
   "metadata": {},
   "outputs": [],
   "source": [
    "# 决策变量\n",
    "B = pl.LpVariable('B', lowBound=0, cat='Integer')\n",
    "S = pl.LpVariable('S', lowBound=0, cat='Integer')"
   ]
  },
  {
   "cell_type": "code",
   "execution_count": 18,
   "id": "c6790ec8",
   "metadata": {},
   "outputs": [],
   "source": [
    "# 目标函数\n",
    "model += 18.8 * B + 10.5 * S, \"Profit\""
   ]
  },
  {
   "cell_type": "code",
   "execution_count": 19,
   "id": "594d6032",
   "metadata": {},
   "outputs": [],
   "source": [
    "# 约束条件\n",
    "model += 2 * B + S <= 160\n",
    "model += 1/3 * B + 1/3 * S <= 40\n",
    "model += 3 * B + 2 * S <= 260"
   ]
  },
  {
   "cell_type": "code",
   "execution_count": 20,
   "id": "95b5207b",
   "metadata": {},
   "outputs": [
    {
     "ename": "PulpSolverError",
     "evalue": "PuLP: Error while executing glpsol.exe",
     "output_type": "error",
     "traceback": [
      "\u001B[1;31m---------------------------------------------------------------------------\u001B[0m",
      "\u001B[1;31mPulpSolverError\u001B[0m                           Traceback (most recent call last)",
      "\u001B[1;32m~\\AppData\\Local\\Temp/ipykernel_19016/3092610241.py\u001B[0m in \u001B[0;36m<module>\u001B[1;34m\u001B[0m\n\u001B[0;32m      1\u001B[0m \u001B[1;31m# 求解线性规划问题\u001B[0m\u001B[1;33m\u001B[0m\u001B[1;33m\u001B[0m\u001B[1;33m\u001B[0m\u001B[0m\n\u001B[1;32m----> 2\u001B[1;33m \u001B[0mmodel\u001B[0m\u001B[1;33m.\u001B[0m\u001B[0msolve\u001B[0m\u001B[1;33m(\u001B[0m\u001B[1;33m)\u001B[0m\u001B[1;33m\u001B[0m\u001B[1;33m\u001B[0m\u001B[0m\n\u001B[0m\u001B[0;32m      3\u001B[0m \u001B[0mpl\u001B[0m\u001B[1;33m.\u001B[0m\u001B[0mLpStatus\u001B[0m\u001B[1;33m[\u001B[0m\u001B[0mmodel\u001B[0m\u001B[1;33m.\u001B[0m\u001B[0mstatus\u001B[0m\u001B[1;33m]\u001B[0m\u001B[1;33m\u001B[0m\u001B[1;33m\u001B[0m\u001B[0m\n",
      "\u001B[1;32m~\\anaconda3\\envs\\python38\\lib\\site-packages\\pulp\\pulp.py\u001B[0m in \u001B[0;36msolve\u001B[1;34m(self, solver, **kwargs)\u001B[0m\n\u001B[0;32m   1875\u001B[0m         \u001B[1;31m# time it\u001B[0m\u001B[1;33m\u001B[0m\u001B[1;33m\u001B[0m\u001B[1;33m\u001B[0m\u001B[0m\n\u001B[0;32m   1876\u001B[0m         \u001B[0mself\u001B[0m\u001B[1;33m.\u001B[0m\u001B[0mstartClock\u001B[0m\u001B[1;33m(\u001B[0m\u001B[1;33m)\u001B[0m\u001B[1;33m\u001B[0m\u001B[1;33m\u001B[0m\u001B[0m\n\u001B[1;32m-> 1877\u001B[1;33m         \u001B[0mstatus\u001B[0m \u001B[1;33m=\u001B[0m \u001B[0msolver\u001B[0m\u001B[1;33m.\u001B[0m\u001B[0mactualSolve\u001B[0m\u001B[1;33m(\u001B[0m\u001B[0mself\u001B[0m\u001B[1;33m,\u001B[0m \u001B[1;33m**\u001B[0m\u001B[0mkwargs\u001B[0m\u001B[1;33m)\u001B[0m\u001B[1;33m\u001B[0m\u001B[1;33m\u001B[0m\u001B[0m\n\u001B[0m\u001B[0;32m   1878\u001B[0m         \u001B[0mself\u001B[0m\u001B[1;33m.\u001B[0m\u001B[0mstopClock\u001B[0m\u001B[1;33m(\u001B[0m\u001B[1;33m)\u001B[0m\u001B[1;33m\u001B[0m\u001B[1;33m\u001B[0m\u001B[0m\n\u001B[0;32m   1879\u001B[0m         \u001B[0mself\u001B[0m\u001B[1;33m.\u001B[0m\u001B[0mrestoreObjective\u001B[0m\u001B[1;33m(\u001B[0m\u001B[0mwasNone\u001B[0m\u001B[1;33m,\u001B[0m \u001B[0mdummyVar\u001B[0m\u001B[1;33m)\u001B[0m\u001B[1;33m\u001B[0m\u001B[1;33m\u001B[0m\u001B[0m\n",
      "\u001B[1;32m~\\anaconda3\\envs\\python38\\lib\\site-packages\\pulp\\apis\\glpk_api.py\u001B[0m in \u001B[0;36mactualSolve\u001B[1;34m(self, lp)\u001B[0m\n\u001B[0;32m    113\u001B[0m \u001B[1;33m\u001B[0m\u001B[0m\n\u001B[0;32m    114\u001B[0m         \u001B[1;32mif\u001B[0m \u001B[1;32mnot\u001B[0m \u001B[0mos\u001B[0m\u001B[1;33m.\u001B[0m\u001B[0mpath\u001B[0m\u001B[1;33m.\u001B[0m\u001B[0mexists\u001B[0m\u001B[1;33m(\u001B[0m\u001B[0mtmpSol\u001B[0m\u001B[1;33m)\u001B[0m\u001B[1;33m:\u001B[0m\u001B[1;33m\u001B[0m\u001B[1;33m\u001B[0m\u001B[0m\n\u001B[1;32m--> 115\u001B[1;33m             \u001B[1;32mraise\u001B[0m \u001B[0mPulpSolverError\u001B[0m\u001B[1;33m(\u001B[0m\u001B[1;34m\"PuLP: Error while executing \"\u001B[0m \u001B[1;33m+\u001B[0m \u001B[0mself\u001B[0m\u001B[1;33m.\u001B[0m\u001B[0mpath\u001B[0m\u001B[1;33m)\u001B[0m\u001B[1;33m\u001B[0m\u001B[1;33m\u001B[0m\u001B[0m\n\u001B[0m\u001B[0;32m    116\u001B[0m         \u001B[0mstatus\u001B[0m\u001B[1;33m,\u001B[0m \u001B[0mvalues\u001B[0m \u001B[1;33m=\u001B[0m \u001B[0mself\u001B[0m\u001B[1;33m.\u001B[0m\u001B[0mreadsol\u001B[0m\u001B[1;33m(\u001B[0m\u001B[0mtmpSol\u001B[0m\u001B[1;33m)\u001B[0m\u001B[1;33m\u001B[0m\u001B[1;33m\u001B[0m\u001B[0m\n\u001B[0;32m    117\u001B[0m         \u001B[0mlp\u001B[0m\u001B[1;33m.\u001B[0m\u001B[0massignVarsVals\u001B[0m\u001B[1;33m(\u001B[0m\u001B[0mvalues\u001B[0m\u001B[1;33m)\u001B[0m\u001B[1;33m\u001B[0m\u001B[1;33m\u001B[0m\u001B[0m\n",
      "\u001B[1;31mPulpSolverError\u001B[0m: PuLP: Error while executing glpsol.exe"
     ]
    }
   ],
   "source": [
    "# 求解线性规划问题\n",
    "model.solve()\n",
    "pl.LpStatus[model.status]"
   ]
  },
  {
   "cell_type": "code",
   "execution_count": null,
   "id": "f6936d78",
   "metadata": {},
   "outputs": [],
   "source": [
    "for v in model.variables():\n",
    "    print(v.name, \"=\", v.varValue)"
   ]
  },
  {
   "cell_type": "code",
   "execution_count": null,
   "id": "d617dbef",
   "metadata": {},
   "outputs": [],
   "source": [
    "pl.value(model.objective)"
   ]
  },
  {
   "cell_type": "code",
   "execution_count": null,
   "id": "1f2e3ce6",
   "metadata": {},
   "outputs": [],
   "source": [
    "# 定义问题\n",
    "model1 = pl.LpProblem(\"manufacture problem\", pl.LpMaximize)\n",
    "# 决策变量\n",
    "AA = pl.LpVariable('AA', lowBound=0, cat='Integer')\n",
    "BB = pl.LpVariable('BB', lowBound=0, cat='Integer')\n",
    "# 目标函数\n",
    "model1 += 3 * AA + 2 * BB, \"Profit\"\n",
    "# 约束条件\n",
    "model1 += AA + 0.5 * BB <= 4.5\n",
    "model1 += 2 * AA + 3 * BB <= 14\n",
    "# 求解线性规划问题\n",
    "model1.solve()\n",
    "pl.LpStatus[model1.status]"
   ]
  },
  {
   "cell_type": "code",
   "execution_count": null,
   "id": "16339ea4",
   "metadata": {},
   "outputs": [],
   "source": [
    "for v in model1.variables():\n",
    "    print(v.name, \"=\", v.varValue)"
   ]
  },
  {
   "cell_type": "code",
   "execution_count": null,
   "id": "cb4b9929",
   "metadata": {},
   "outputs": [],
   "source": [
    "pl.value(model1.objective)"
   ]
  },
  {
   "cell_type": "code",
   "execution_count": null,
   "id": "e969e3bf",
   "metadata": {},
   "outputs": [],
   "source": []
  }
 ],
 "metadata": {
  "kernelspec": {
   "display_name": "Python 3 (ipykernel)",
   "language": "python",
   "name": "python3"
  },
  "language_info": {
   "codemirror_mode": {
    "name": "ipython",
    "version": 3
   },
   "file_extension": ".py",
   "mimetype": "text/x-python",
   "name": "python",
   "nbconvert_exporter": "python",
   "pygments_lexer": "ipython3",
   "version": "3.8.11"
  },
  "latex_envs": {
   "LaTeX_envs_menu_present": true,
   "autoclose": false,
   "autocomplete": true,
   "bibliofile": "biblio.bib",
   "cite_by": "apalike",
   "current_citInitial": 1,
   "eqLabelWithNumbers": true,
   "eqNumInitial": 1,
   "hotkeys": {
    "equation": "Ctrl-E",
    "itemize": "Ctrl-I"
   },
   "labels_anchors": false,
   "latex_user_defs": false,
   "report_style_numbering": false,
   "user_envs_cfg": false
  },
  "toc": {
   "base_numbering": 1,
   "nav_menu": {},
   "number_sections": true,
   "sideBar": true,
   "skip_h1_title": false,
   "title_cell": "Table of Contents",
   "title_sidebar": "Contents",
   "toc_cell": false,
   "toc_position": {},
   "toc_section_display": true,
   "toc_window_display": false
  }
 },
 "nbformat": 4,
 "nbformat_minor": 5
}