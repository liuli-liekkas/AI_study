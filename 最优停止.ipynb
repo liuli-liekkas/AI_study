{
 "cells": [
  {
   "cell_type": "code",
   "execution_count": 1,
   "metadata": {},
   "outputs": [],
   "source": [
    "#秘书难题\n",
    "import numpy as np\n",
    "import matplotlib.pyplot as plt\n",
    "import time\n",
    "plt.style.use('seaborn-whitegrid')"
   ]
  },
  {
   "cell_type": "code",
   "execution_count": 2,
   "metadata": {},
   "outputs": [],
   "source": [
    "n = 50  #总申请人\n",
    "nplot = np.empty([1,1]) #"
   ]
  },
  {
   "cell_type": "code",
   "execution_count": 3,
   "metadata": {
    "scrolled": true
   },
   "outputs": [
    {
     "name": "stdout",
     "output_type": "stream",
     "text": [
      "如果有 2  个申请人, 划入观察期人数 1 50.17 % 的概率选中最优秀的人\n",
      "如果有 3  个申请人, 划入观察期人数 1 50.84 % 的概率选中最优秀的人\n",
      "如果有 4  个申请人, 划入观察期人数 1 46.55 % 的概率选中最优秀的人\n",
      "如果有 5  个申请人, 划入观察期人数 2 42.51 % 的概率选中最优秀的人\n",
      "如果有 6  个申请人, 划入观察期人数 2 41.9 % 的概率选中最优秀的人\n",
      "如果有 7  个申请人, 划入观察期人数 2 41.83 % 的概率选中最优秀的人\n",
      "如果有 8  个申请人, 划入观察期人数 3 41.23 % 的概率选中最优秀的人\n",
      "如果有 9  个申请人, 划入观察期人数 3 40.74 % 的概率选中最优秀的人\n",
      "如果有 10  个申请人, 划入观察期人数 3 40.15 % 的概率选中最优秀的人\n",
      "如果有 11  个申请人, 划入观察期人数 4 39.65 % 的概率选中最优秀的人\n",
      "如果有 12  个申请人, 划入观察期人数 4 39.88 % 的概率选中最优秀的人\n",
      "如果有 13  个申请人, 划入观察期人数 5 39.89 % 的概率选中最优秀的人\n",
      "如果有 14  个申请人, 划入观察期人数 5 40.13 % 的概率选中最优秀的人\n",
      "如果有 15  个申请人, 划入观察期人数 5 39.12 % 的概率选中最优秀的人\n",
      "如果有 16  个申请人, 划入观察期人数 6 39.46 % 的概率选中最优秀的人\n",
      "如果有 17  个申请人, 划入观察期人数 6 38.52 % 的概率选中最优秀的人\n",
      "如果有 18  个申请人, 划入观察期人数 7 38.6 % 的概率选中最优秀的人\n",
      "如果有 19  个申请人, 划入观察期人数 7 39.68 % 的概率选中最优秀的人\n",
      "如果有 20  个申请人, 划入观察期人数 6 38.5 % 的概率选中最优秀的人\n",
      "如果有 21  个申请人, 划入观察期人数 7 38.09 % 的概率选中最优秀的人\n",
      "如果有 22  个申请人, 划入观察期人数 7 38.23 % 的概率选中最优秀的人\n",
      "如果有 23  个申请人, 划入观察期人数 9 38.1 % 的概率选中最优秀的人\n",
      "如果有 24  个申请人, 划入观察期人数 10 38.1 % 的概率选中最优秀的人\n",
      "如果有 25  个申请人, 划入观察期人数 8 38.07 % 的概率选中最优秀的人\n",
      "如果有 26  个申请人, 划入观察期人数 9 38.86 % 的概率选中最优秀的人\n",
      "如果有 27  个申请人, 划入观察期人数 9 37.95 % 的概率选中最优秀的人\n",
      "如果有 28  个申请人, 划入观察期人数 9 38.12 % 的概率选中最优秀的人\n",
      "如果有 29  个申请人, 划入观察期人数 10 38.02 % 的概率选中最优秀的人\n",
      "如果有 30  个申请人, 划入观察期人数 12 38.46 % 的概率选中最优秀的人\n",
      "如果有 31  个申请人, 划入观察期人数 11 37.85 % 的概率选中最优秀的人\n",
      "如果有 32  个申请人, 划入观察期人数 10 38.32 % 的概率选中最优秀的人\n",
      "如果有 33  个申请人, 划入观察期人数 13 38.36 % 的概率选中最优秀的人\n",
      "如果有 34  个申请人, 划入观察期人数 11 38.06 % 的概率选中最优秀的人\n",
      "如果有 35  个申请人, 划入观察期人数 12 38.5 % 的概率选中最优秀的人\n",
      "如果有 36  个申请人, 划入观察期人数 12 38.27 % 的概率选中最优秀的人\n",
      "如果有 37  个申请人, 划入观察期人数 14 38.43 % 的概率选中最优秀的人\n",
      "如果有 38  个申请人, 划入观察期人数 13 37.77 % 的概率选中最优秀的人\n",
      "如果有 39  个申请人, 划入观察期人数 12 38.24 % 的概率选中最优秀的人\n",
      "如果有 40  个申请人, 划入观察期人数 15 37.4 % 的概率选中最优秀的人\n",
      "如果有 41  个申请人, 划入观察期人数 13 37.63 % 的概率选中最优秀的人\n",
      "如果有 42  个申请人, 划入观察期人数 16 38.07 % 的概率选中最优秀的人\n",
      "如果有 43  个申请人, 划入观察期人数 17 38.05 % 的概率选中最优秀的人\n",
      "如果有 44  个申请人, 划入观察期人数 14 38.11 % 的概率选中最优秀的人\n",
      "如果有 45  个申请人, 划入观察期人数 16 37.93 % 的概率选中最优秀的人\n",
      "如果有 46  个申请人, 划入观察期人数 15 37.96 % 的概率选中最优秀的人\n",
      "如果有 47  个申请人, 划入观察期人数 17 37.51 % 的概率选中最优秀的人\n",
      "如果有 48  个申请人, 划入观察期人数 16 37.9 % 的概率选中最优秀的人\n",
      "如果有 49  个申请人, 划入观察期人数 18 37.4 % 的概率选中最优秀的人\n"
     ]
    }
   ],
   "source": [
    "for k in range(2,n):\n",
    "    m = 10000 #模拟仿真的次数\n",
    "    plot = np.empty([1,1])\n",
    "    \n",
    "     \n",
    "    for j in range(1,k): #依次选择最佳停止   \n",
    "        passed = 0\n",
    "        for i in range (0,m): \n",
    "            array = np.random.rand(k)\n",
    "            picked = np.argmax(array[j:]>max(array[0:j])) + j #argmax是最大值的索引\n",
    "            best = np.argmax(array)\n",
    "            if best == picked:\n",
    "                passed = passed+1\n",
    "        #选中最佳的概率\n",
    "        plot = np.append(plot,[passed/m])\n",
    "   \n",
    "    plot = plot[1:]\n",
    "    x = range(1,k)\n",
    "    y = plot\n",
    "   \n",
    "    print(\"如果有\",k,\" 个申请人,\",\"划入观察期人数\",plot.argmax()+1, round(100* plot.max(),2),\"% 的概率选中最优秀的人\")\n",
    "    nplot =np.append(nplot,plot.max())"
   ]
  },
  {
   "cell_type": "code",
   "execution_count": 4,
   "metadata": {},
   "outputs": [
    {
     "data": {
      "text/plain": [
       "Text(0, 0.5, 'Probability of Best Applicant')"
      ]
     },
     "execution_count": 4,
     "metadata": {},
     "output_type": "execute_result"
    },
    {
     "data": {
      "image/png": "[encoded data removed]",
      "text/plain": [
       "<Figure size 432x288 with 1 Axes>"
      ]
     },
     "metadata": {},
     "output_type": "display_data"
    }
   ],
   "source": [
    "# Plot: \n",
    "nplot = nplot[1:]\n",
    "x = range(2,n)\n",
    "y = nplot\n",
    "plt.plot(x, y, 'o', color='black');\n",
    "plt.xlabel(\"Number of Applicants\")\n",
    "plt.ylabel(\"Probability of Best Applicant\")"
   ]
  },
  {
   "cell_type": "code",
   "execution_count": null,
   "metadata": {},
   "outputs": [],
   "source": []
  }
 ],
 "metadata": {
  "kernelspec": {
   "display_name": "Python 3 (ipykernel)",
   "language": "python",
   "name": "python3"
  },
  "language_info": {
   "codemirror_mode": {
    "name": "ipython",
    "version": 3
   },
   "file_extension": ".py",
   "mimetype": "text/x-python",
   "name": "python",
   "nbconvert_exporter": "python",
   "pygments_lexer": "ipython3",
   "version": "3.8.11"
  }
 },
 "nbformat": 4,
 "nbformat_minor": 4
}