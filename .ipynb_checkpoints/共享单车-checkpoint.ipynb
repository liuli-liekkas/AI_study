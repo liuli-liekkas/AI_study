{
 "cells": [
  {
   "cell_type": "markdown",
   "metadata": {},
   "source": [
    "# 数据清洗与探查（共享单车）\n",
    "\n",
    "\n",
    "\n",
    "# 数据概览\n",
    "\n",
    "本分析将使用修改后的Bike_Sharing数据集，与原始数据集不同，此修改版本为了强调对缺失数据的处理，包含Nulls和Zeros。\n",
    "\n",
    "## 特征信息\n",
    "    数据集包含信息介绍如下：\n",
    "\n",
    "    *  dteday      : 日期（未指定时间）\n",
    "    *  season      : 季节（春、夏、秋、冬）\n",
    "    *  hr        :  小时 (0 to 23)\n",
    "    *  holiday     : 是否假期\n",
    "    *  weekday     : 星期几\n",
    "    *  workingday   : 如果既不是周末也不是假期则为1，否则为0\n",
    "    *  weathersit   : 天气情况（晴、多云、小雪、雷暴）\n",
    "    *  temp       : 标准化温度（摄氏度）\n",
    "                 (t-t_min)/(t_max-t_min), t_min=-8, t_max=+39 (only in hourly scale)\n",
    "    *  atemp      : 归一化体感温度（摄氏度） \n",
    "    \t\t\t\t   (t-t_min)/(t_max-t_min), t_min=-16, t_max=+50 (only in hourly scale)\n",
    "    *  Hum        : 标准化湿度. The values are divided to 100 (max)\n",
    "    *  Windspeed    : 标准化风速. The values are divided to 67 (max)\n",
    "    *  Cnt        : 租赁自行车总数\n",
    "\n"
   ]
  },
  {
   "cell_type": "code",
   "execution_count": 1,
   "metadata": {
    "ExecuteTime": {
     "end_time": "2020-10-07T08:46:04.696172Z",
     "start_time": "2020-10-07T08:46:02.722287Z"
    }
   },
   "outputs": [],
   "source": [
    "import pandas as pd\n",
    "import numpy  as np\n",
    "\n",
    "import matplotlib\n",
    "import matplotlib.pyplot as plt\n",
    "\n",
    "import seaborn as sns\n",
    "\n",
    "%matplotlib inline\n",
    "\n",
    "from sklearn.linear_model import LinearRegression\n",
    "from sklearn.ensemble import RandomForestRegressor\n",
    "from scipy import stats\n",
    "\n",
    "from matplotlib import dates as mdates\n",
    "import calendar\n",
    "from datetime import datetime\n",
    "\n",
    "from pandas.plotting import register_matplotlib_converters\n",
    "register_matplotlib_converters()\n",
    "\n",
    "# import warnings\n",
    "# warnings.filterwarnings('ignore')"
   ]
  },
  {
   "cell_type": "code",
   "execution_count": 2,
   "metadata": {
    "ExecuteTime": {
     "end_time": "2020-10-07T08:46:04.737535Z",
     "start_time": "2020-10-07T08:46:04.698336Z"
    }
   },
   "outputs": [
    {
     "data": {
      "text/html": [
       "<div>\n",
       "<style scoped>\n",
       "    .dataframe tbody tr th:only-of-type {\n",
       "        vertical-align: middle;\n",
       "    }\n",
       "\n",
       "    .dataframe tbody tr th {\n",
       "        vertical-align: top;\n",
       "    }\n",
       "\n",
       "    .dataframe thead th {\n",
       "        text-align: right;\n",
       "    }\n",
       "</style>\n",
       "<table border=\"1\" class=\"dataframe\">\n",
       "  <thead>\n",
       "    <tr style=\"text-align: right;\">\n",
       "      <th></th>\n",
       "      <th>dteday</th>\n",
       "      <th>season</th>\n",
       "      <th>hr</th>\n",
       "      <th>holiday</th>\n",
       "      <th>weekday</th>\n",
       "      <th>workingday</th>\n",
       "      <th>weathersit</th>\n",
       "      <th>temp</th>\n",
       "      <th>atemp</th>\n",
       "      <th>hum</th>\n",
       "      <th>windspeed</th>\n",
       "      <th>cnt</th>\n",
       "    </tr>\n",
       "  </thead>\n",
       "  <tbody>\n",
       "    <tr>\n",
       "      <th>0</th>\n",
       "      <td>1/1/2011</td>\n",
       "      <td>spring</td>\n",
       "      <td>0</td>\n",
       "      <td>0</td>\n",
       "      <td>Saturday</td>\n",
       "      <td>0</td>\n",
       "      <td>Clear</td>\n",
       "      <td>0.24</td>\n",
       "      <td>0.2879</td>\n",
       "      <td>0.81</td>\n",
       "      <td>0.0</td>\n",
       "      <td>16</td>\n",
       "    </tr>\n",
       "    <tr>\n",
       "      <th>1</th>\n",
       "      <td>1/1/2011</td>\n",
       "      <td>spring</td>\n",
       "      <td>1</td>\n",
       "      <td>0</td>\n",
       "      <td>Saturday</td>\n",
       "      <td>0</td>\n",
       "      <td>Clear</td>\n",
       "      <td>0.22</td>\n",
       "      <td>0.2727</td>\n",
       "      <td>0.80</td>\n",
       "      <td>0.0</td>\n",
       "      <td>40</td>\n",
       "    </tr>\n",
       "    <tr>\n",
       "      <th>2</th>\n",
       "      <td>1/1/2011</td>\n",
       "      <td>spring</td>\n",
       "      <td>2</td>\n",
       "      <td>0</td>\n",
       "      <td>Saturday</td>\n",
       "      <td>0</td>\n",
       "      <td>Clear</td>\n",
       "      <td>0.22</td>\n",
       "      <td>0.2727</td>\n",
       "      <td>0.80</td>\n",
       "      <td>0.0</td>\n",
       "      <td>32</td>\n",
       "    </tr>\n",
       "    <tr>\n",
       "      <th>3</th>\n",
       "      <td>1/1/2011</td>\n",
       "      <td>spring</td>\n",
       "      <td>3</td>\n",
       "      <td>0</td>\n",
       "      <td>Saturday</td>\n",
       "      <td>0</td>\n",
       "      <td>Clear</td>\n",
       "      <td>0.24</td>\n",
       "      <td>0.2879</td>\n",
       "      <td>0.75</td>\n",
       "      <td>0.0</td>\n",
       "      <td>13</td>\n",
       "    </tr>\n",
       "    <tr>\n",
       "      <th>4</th>\n",
       "      <td>1/1/2011</td>\n",
       "      <td>spring</td>\n",
       "      <td>4</td>\n",
       "      <td>0</td>\n",
       "      <td>Saturday</td>\n",
       "      <td>0</td>\n",
       "      <td>Clear</td>\n",
       "      <td>0.24</td>\n",
       "      <td>0.2879</td>\n",
       "      <td>0.75</td>\n",
       "      <td>0.0</td>\n",
       "      <td>1</td>\n",
       "    </tr>\n",
       "  </tbody>\n",
       "</table>\n",
       "</div>"
      ],
      "text/plain": [
       "     dteday  season  hr  holiday   weekday  workingday weathersit  temp  \\\n",
       "0  1/1/2011  spring   0        0  Saturday           0      Clear  0.24   \n",
       "1  1/1/2011  spring   1        0  Saturday           0      Clear  0.22   \n",
       "2  1/1/2011  spring   2        0  Saturday           0      Clear  0.22   \n",
       "3  1/1/2011  spring   3        0  Saturday           0      Clear  0.24   \n",
       "4  1/1/2011  spring   4        0  Saturday           0      Clear  0.24   \n",
       "\n",
       "    atemp   hum  windspeed  cnt  \n",
       "0  0.2879  0.81        0.0   16  \n",
       "1  0.2727  0.80        0.0   40  \n",
       "2  0.2727  0.80        0.0   32  \n",
       "3  0.2879  0.75        0.0   13  \n",
       "4  0.2879  0.75        0.0    1  "
      ]
     },
     "execution_count": 2,
     "metadata": {},
     "output_type": "execute_result"
    }
   ],
   "source": [
    "# pd.options.display.float_format    = '{:,.3f}'.format  \n",
    "df = pd.read_csv('./data/bikesharing_modified.csv')\n",
    "\n",
    "ordFeatures   = ['hr']\n",
    "boolFeatures  = ['holiday','workday']\n",
    "contFeatures  = ['temp','atemp','hum','windspeed']\n",
    "nomFeatures   = ['season','weekday','weathersit']\n",
    "target        = ['cnt']\n",
    "\n",
    "df.head()"
   ]
  },
  {
   "cell_type": "code",
   "execution_count": 3,
   "metadata": {
    "ExecuteTime": {
     "end_time": "2020-10-07T08:46:08.054499Z",
     "start_time": "2020-10-07T08:46:08.049799Z"
    }
   },
   "outputs": [
    {
     "data": {
      "text/plain": [
       "dteday         object\n",
       "season         object\n",
       "hr              int64\n",
       "holiday         int64\n",
       "weekday        object\n",
       "workingday      int64\n",
       "weathersit     object\n",
       "temp          float64\n",
       "atemp         float64\n",
       "hum           float64\n",
       "windspeed     float64\n",
       "cnt             int64\n",
       "dtype: object"
      ]
     },
     "execution_count": 3,
     "metadata": {},
     "output_type": "execute_result"
    }
   ],
   "source": [
    "df.dtypes"
   ]
  },
  {
   "cell_type": "code",
   "execution_count": 4,
   "metadata": {},
   "outputs": [
    {
     "data": {
      "text/html": [
       "<div>\n",
       "<style scoped>\n",
       "    .dataframe tbody tr th:only-of-type {\n",
       "        vertical-align: middle;\n",
       "    }\n",
       "\n",
       "    .dataframe tbody tr th {\n",
       "        vertical-align: top;\n",
       "    }\n",
       "\n",
       "    .dataframe thead th {\n",
       "        text-align: right;\n",
       "    }\n",
       "</style>\n",
       "<table border=\"1\" class=\"dataframe\">\n",
       "  <thead>\n",
       "    <tr style=\"text-align: right;\">\n",
       "      <th></th>\n",
       "      <th>hr</th>\n",
       "      <th>holiday</th>\n",
       "      <th>workingday</th>\n",
       "      <th>temp</th>\n",
       "      <th>atemp</th>\n",
       "      <th>hum</th>\n",
       "      <th>windspeed</th>\n",
       "      <th>cnt</th>\n",
       "    </tr>\n",
       "  </thead>\n",
       "  <tbody>\n",
       "    <tr>\n",
       "      <th>count</th>\n",
       "      <td>17379.000000</td>\n",
       "      <td>17379.000000</td>\n",
       "      <td>17379.000000</td>\n",
       "      <td>17369.000000</td>\n",
       "      <td>17379.000000</td>\n",
       "      <td>17366.000000</td>\n",
       "      <td>17379.000000</td>\n",
       "      <td>17379.000000</td>\n",
       "    </tr>\n",
       "    <tr>\n",
       "      <th>mean</th>\n",
       "      <td>11.546752</td>\n",
       "      <td>0.028770</td>\n",
       "      <td>0.682721</td>\n",
       "      <td>0.497035</td>\n",
       "      <td>0.475775</td>\n",
       "      <td>0.627176</td>\n",
       "      <td>0.190098</td>\n",
       "      <td>189.463088</td>\n",
       "    </tr>\n",
       "    <tr>\n",
       "      <th>std</th>\n",
       "      <td>6.914405</td>\n",
       "      <td>0.167165</td>\n",
       "      <td>0.465431</td>\n",
       "      <td>0.192589</td>\n",
       "      <td>0.171850</td>\n",
       "      <td>0.192921</td>\n",
       "      <td>0.122340</td>\n",
       "      <td>181.387599</td>\n",
       "    </tr>\n",
       "    <tr>\n",
       "      <th>min</th>\n",
       "      <td>0.000000</td>\n",
       "      <td>0.000000</td>\n",
       "      <td>0.000000</td>\n",
       "      <td>0.020000</td>\n",
       "      <td>0.000000</td>\n",
       "      <td>0.000000</td>\n",
       "      <td>0.000000</td>\n",
       "      <td>1.000000</td>\n",
       "    </tr>\n",
       "    <tr>\n",
       "      <th>25%</th>\n",
       "      <td>6.000000</td>\n",
       "      <td>0.000000</td>\n",
       "      <td>0.000000</td>\n",
       "      <td>0.340000</td>\n",
       "      <td>0.333300</td>\n",
       "      <td>0.480000</td>\n",
       "      <td>0.104500</td>\n",
       "      <td>40.000000</td>\n",
       "    </tr>\n",
       "    <tr>\n",
       "      <th>50%</th>\n",
       "      <td>12.000000</td>\n",
       "      <td>0.000000</td>\n",
       "      <td>1.000000</td>\n",
       "      <td>0.500000</td>\n",
       "      <td>0.484800</td>\n",
       "      <td>0.630000</td>\n",
       "      <td>0.194000</td>\n",
       "      <td>142.000000</td>\n",
       "    </tr>\n",
       "    <tr>\n",
       "      <th>75%</th>\n",
       "      <td>18.000000</td>\n",
       "      <td>0.000000</td>\n",
       "      <td>1.000000</td>\n",
       "      <td>0.660000</td>\n",
       "      <td>0.621200</td>\n",
       "      <td>0.780000</td>\n",
       "      <td>0.253700</td>\n",
       "      <td>281.000000</td>\n",
       "    </tr>\n",
       "    <tr>\n",
       "      <th>max</th>\n",
       "      <td>23.000000</td>\n",
       "      <td>1.000000</td>\n",
       "      <td>1.000000</td>\n",
       "      <td>1.000000</td>\n",
       "      <td>1.000000</td>\n",
       "      <td>1.000000</td>\n",
       "      <td>0.850700</td>\n",
       "      <td>977.000000</td>\n",
       "    </tr>\n",
       "  </tbody>\n",
       "</table>\n",
       "</div>"
      ],
      "text/plain": [
       "                 hr       holiday    workingday          temp         atemp  \\\n",
       "count  17379.000000  17379.000000  17379.000000  17369.000000  17379.000000   \n",
       "mean      11.546752      0.028770      0.682721      0.497035      0.475775   \n",
       "std        6.914405      0.167165      0.465431      0.192589      0.171850   \n",
       "min        0.000000      0.000000      0.000000      0.020000      0.000000   \n",
       "25%        6.000000      0.000000      0.000000      0.340000      0.333300   \n",
       "50%       12.000000      0.000000      1.000000      0.500000      0.484800   \n",
       "75%       18.000000      0.000000      1.000000      0.660000      0.621200   \n",
       "max       23.000000      1.000000      1.000000      1.000000      1.000000   \n",
       "\n",
       "                hum     windspeed           cnt  \n",
       "count  17366.000000  17379.000000  17379.000000  \n",
       "mean       0.627176      0.190098    189.463088  \n",
       "std        0.192921      0.122340    181.387599  \n",
       "min        0.000000      0.000000      1.000000  \n",
       "25%        0.480000      0.104500     40.000000  \n",
       "50%        0.630000      0.194000    142.000000  \n",
       "75%        0.780000      0.253700    281.000000  \n",
       "max        1.000000      0.850700    977.000000  "
      ]
     },
     "execution_count": 4,
     "metadata": {},
     "output_type": "execute_result"
    }
   ],
   "source": [
    "df.describe()"
   ]
  },
  {
   "cell_type": "code",
   "execution_count": 5,
   "metadata": {},
   "outputs": [
    {
     "name": "stdout",
     "output_type": "stream",
     "text": [
      "<class 'pandas.core.frame.DataFrame'>\n",
      "RangeIndex: 17379 entries, 0 to 17378\n",
      "Data columns (total 12 columns):\n",
      " #   Column      Non-Null Count  Dtype  \n",
      "---  ------      --------------  -----  \n",
      " 0   dteday      17379 non-null  object \n",
      " 1   season      17379 non-null  object \n",
      " 2   hr          17379 non-null  int64  \n",
      " 3   holiday     17379 non-null  int64  \n",
      " 4   weekday     17379 non-null  object \n",
      " 5   workingday  17379 non-null  int64  \n",
      " 6   weathersit  17379 non-null  object \n",
      " 7   temp        17369 non-null  float64\n",
      " 8   atemp       17379 non-null  float64\n",
      " 9   hum         17366 non-null  float64\n",
      " 10  windspeed   17379 non-null  float64\n",
      " 11  cnt         17379 non-null  int64  \n",
      "dtypes: float64(4), int64(4), object(4)\n",
      "memory usage: 1.6+ MB\n"
     ]
    }
   ],
   "source": [
    "df.info()"
   ]
  },
  {
   "cell_type": "markdown",
   "metadata": {},
   "source": [
    "## 利用pandas-profiling处理数据"
   ]
  },
  {
   "cell_type": "markdown",
   "metadata": {},
   "source": [
    "Pandas-profiling是一个开源Python库，它只需一行代码即可为任何机器学习数据集生成漂亮的交互式报告。\n",
    "\n",
    "每一列的以下统计数据(如果与列类型相关)都显示在交互式HTML报告中:\n",
    "\n",
    "- 类型推断：检测DataFrame中列的类型。\n",
    "- 概要：类型，唯一值，缺失值\n",
    "- 分位数统计信息，例如最小值，Q1，中位数，Q3，最大值，范围，四分位数范围\n",
    "- 描述性统计数据，例如均值，众数，标准偏差，和，中位数绝对偏差，变异系数，峰度，偏度\n",
    "- 最常使用的值\n",
    "- 直方图\n",
    "- 高度相关变量（Spearman，Pearson和Kendall矩阵）的相关性突出显示\n",
    "- 缺失值矩阵，计数（count），热图和缺失值树状图\n",
    "\n",
    "\n",
    "对于Bike_Sharing数据集，数据类别不多，数据量比较小，适合使用pandas-profiling来一键观察数据的基本信息。"
   ]
  },
  {
   "cell_type": "code",
   "execution_count": 6,
   "metadata": {
    "ExecuteTime": {
     "end_time": "2020-10-07T03:38:28.611152Z",
     "start_time": "2020-10-07T03:38:16.234796Z"
    },
    "scrolled": true
   },
   "outputs": [
    {
     "name": "stdout",
     "output_type": "stream",
     "text": [
      "module://matplotlib_inline.backend_inline\n"
     ]
    },
    {
     "ename": "ModuleNotFoundError",
     "evalue": "No module named 'pandas_profiling'",
     "output_type": "error",
     "traceback": [
      "\u001b[1;31m---------------------------------------------------------------------------\u001b[0m",
      "\u001b[1;31mModuleNotFoundError\u001b[0m                       Traceback (most recent call last)",
      "\u001b[1;32m~\\AppData\\Local\\Temp/ipykernel_12412/2680891995.py\u001b[0m in \u001b[0;36m<module>\u001b[1;34m\u001b[0m\n\u001b[0;32m      1\u001b[0m \u001b[0mprint\u001b[0m\u001b[1;33m(\u001b[0m\u001b[0mmatplotlib\u001b[0m\u001b[1;33m.\u001b[0m\u001b[0mget_backend\u001b[0m\u001b[1;33m(\u001b[0m\u001b[1;33m)\u001b[0m\u001b[1;33m)\u001b[0m\u001b[1;33m\u001b[0m\u001b[1;33m\u001b[0m\u001b[0m\n\u001b[1;32m----> 2\u001b[1;33m \u001b[1;32mimport\u001b[0m \u001b[0mpandas_profiling\u001b[0m\u001b[1;33m\u001b[0m\u001b[1;33m\u001b[0m\u001b[0m\n\u001b[0m\u001b[0;32m      3\u001b[0m \u001b[0mpfr\u001b[0m \u001b[1;33m=\u001b[0m \u001b[0mpandas_profiling\u001b[0m\u001b[1;33m.\u001b[0m\u001b[0mProfileReport\u001b[0m\u001b[1;33m(\u001b[0m\u001b[0mdf\u001b[0m\u001b[1;33m)\u001b[0m\u001b[1;33m\u001b[0m\u001b[1;33m\u001b[0m\u001b[0m\n\u001b[0;32m      4\u001b[0m \u001b[0mpfr\u001b[0m\u001b[1;33m.\u001b[0m\u001b[0mto_file\u001b[0m\u001b[1;33m(\u001b[0m\u001b[1;34m'shared_bike_report.html'\u001b[0m\u001b[1;33m)\u001b[0m\u001b[1;33m\u001b[0m\u001b[1;33m\u001b[0m\u001b[0m\n\u001b[0;32m      5\u001b[0m \u001b[0mpfr\u001b[0m\u001b[1;33m\u001b[0m\u001b[1;33m\u001b[0m\u001b[0m\n",
      "\u001b[1;31mModuleNotFoundError\u001b[0m: No module named 'pandas_profiling'"
     ]
    }
   ],
   "source": [
    "print(matplotlib.get_backend())\n",
    "import pandas_profiling\n",
    "pfr = pandas_profiling.ProfileReport(df)\n",
    "pfr.to_file('shared_bike_report.html')\n",
    "pfr\n",
    "print(matplotlib.get_backend())\n",
    "%matplotlib inline\n",
    "print(matplotlib.get_backend())"
   ]
  },
  {
   "cell_type": "markdown",
   "metadata": {},
   "source": [
    "报告显示了数据集的基本信息，包括先前看到了行列信息，也包括如nulls数量，无重复行等初级的分析信息。对于数据的具体特征，pandas-profiling也给出了分析，不过没有经过处理的数据显得非常凌乱，如dteday包含了726个变量，不应该对每个变量直接进行分析处理。\n",
    "\n",
    "总体上说，pandas-profiling是一个十分方便的工具，可以经常在规模不大的数据集上做初步分析使用。"
   ]
  },
  {
   "cell_type": "markdown",
   "metadata": {},
   "source": [
    "也可以用Sweetviz查看数据轮廓"
   ]
  },
  {
   "cell_type": "code",
   "execution_count": null,
   "metadata": {},
   "outputs": [],
   "source": [
    "import sweetviz as sv\n",
    "report = sv.analyze(df)"
   ]
  },
  {
   "cell_type": "code",
   "execution_count": null,
   "metadata": {},
   "outputs": [],
   "source": [
    "report.show_html()"
   ]
  },
  {
   "cell_type": "markdown",
   "metadata": {},
   "source": [
    "## 特征信息转化\n",
    "Bike_Sharing数据集具有多种功能类型：日期（dteday），离散文字变量（season, weekday, weathersit），离散数字变量（hr），布尔值（holiday, workingday），连续变量（temp, atemp, hum, windspeed）。并计算（cnt）。为了便于数据处理与建模，添加了以下功能和转换：<br><br>\n",
    "\n",
    "\n",
    "    dteday          : transformed from Object to Date-time\n",
    "    year            : derived from 'dteday'\n",
    "    month           : derived from 'dteday'\n",
    "    month_int       : ordinal encoding of 'month';  1:Jan, 2:Feb, 3:Mar, …. 12:Dec\n",
    "    season_int      : ordinal encoding of 'season'  1:spring, 2:summer, 3:fall, 4:winter\n",
    "    weekday_int     : ordinal encoding of 'weekday' 0:Mond, 1:Tue, 2:Wed, 3:Thu, 4:Fri, 5:Sat, 6:Sun\n",
    "    weathersit_int  : one-hot encoding of 'weathersit'\n",
    "    \n",
    "将原始数据进行处理，把文字信息转换为数字信息，便于后续数据分析工作"
   ]
  },
  {
   "cell_type": "code",
   "execution_count": null,
   "metadata": {
    "ExecuteTime": {
     "end_time": "2020-10-07T08:46:25.444346Z",
     "start_time": "2020-10-07T08:46:25.177478Z"
    },
    "scrolled": true
   },
   "outputs": [],
   "source": [
    "df['dteday']      = pd.to_datetime(df['dteday'])\n",
    "df['year']        = df.dteday.dt.year\n",
    "df['weekday']     = df.dteday.dt.strftime('%a')\n",
    "df['month']       = df.dteday.dt.strftime('%b')\n",
    "df['month_int']   = df.dteday.dt.month\n",
    "df['weekday_int'] = df.dteday.dt.weekday\n",
    "df['season_int']      = df['season'].replace(['spring', 'summer', 'fall', 'winter'],[1,2,3,4])\n",
    "df['Clear']           = df['weathersit']=='Clear'\n",
    "df['Light Snow']      = df['weathersit']=='Light Snow'\n",
    "df['Slightly cloudy'] = df['weathersit']=='Slightly cloudy'\n",
    "df['Thunderstorm']    = df['weathersit']=='Thunderstorm'\n",
    "\n",
    "df"
   ]
  },
  {
   "cell_type": "markdown",
   "metadata": {},
   "source": [
    "# 数据标记——Nulls, Zeros, Outliers\n",
    "修改的Bike_Sharing数据集，包含null，zeros和outliers。"
   ]
  },
  {
   "cell_type": "markdown",
   "metadata": {
    "ExecuteTime": {
     "end_time": "2020-10-05T17:01:29.221119Z",
     "start_time": "2020-10-05T17:01:29.216764Z"
    }
   },
   "source": [
    "## 标记缺失值\n",
    "nulls是异常值中最急需处理的部分。由于nulls的存在，后续的数据处理过程往往出现致命性的错误，算法通常会返回nulls或者出现错误，使得数据完全无法分析。\n",
    "\n",
    "相较于zeros和outliers，nulls优先级更高。\n",
    "结合isna(), sum()可以快速统计出数据集中nulls异常值的分布和数量"
   ]
  },
  {
   "cell_type": "code",
   "execution_count": null,
   "metadata": {
    "ExecuteTime": {
     "end_time": "2020-10-07T08:47:15.144307Z",
     "start_time": "2020-10-07T08:47:15.129239Z"
    },
    "scrolled": true
   },
   "outputs": [],
   "source": [
    "df.isna().sum()"
   ]
  },
  {
   "cell_type": "markdown",
   "metadata": {},
   "source": [
    "得到结果，数据集中temp列存在10个空值，hum中存在13个空值。"
   ]
  },
  {
   "cell_type": "markdown",
   "metadata": {},
   "source": [
    "由先前得到的结论，只有在温度*'temp'*和湿度*'hum'*中存在Null值。<br>\n",
    "\n",
    "为了可视化数据，新创建*'outlr_miss'*列，用于存储记录数据的异常值标签。 \n",
    "\n",
    "*'outlr_miss'*列的标签规则（此时仅有三类标签）如下：<br>\n",
    "\n",
    "       outlr_miss    \n",
    "             data  >>>  row with no Nulls or Zeros \n",
    "         temp_nan  >>>  temp column has Null values\n",
    "          hum_nan  >>>  hum column has Null values\n",
    " 思考: 有没有第四类标签？"
   ]
  },
  {
   "cell_type": "code",
   "execution_count": null,
   "metadata": {
    "ExecuteTime": {
     "end_time": "2020-10-07T08:47:51.621220Z",
     "start_time": "2020-10-07T08:47:51.068479Z"
    },
    "scrolled": true
   },
   "outputs": [],
   "source": [
    "# 创建outlr_miss列以标记数据缺失情况。\n",
    "df['outlr_miss']='data'\n",
    "df.loc[(df['outlr_miss']=='data') & df['temp'].isna(), 'outlr_miss'] = 'temp_nan'\n",
    "df.loc[(df['outlr_miss']=='data') & df['hum'].isna(), 'outlr_miss']  = 'hum_nan'\n",
    "df[df.isnull().any(axis=1)].style.highlight_null(null_color='lightgreen') # 空值显示为绿色"
   ]
  },
  {
   "cell_type": "markdown",
   "metadata": {},
   "source": [
    "从统计结果看，得到的输出结果应该恰好有23行显示*'temp_nan'*或*'hum_nan'*标签（10+13）。绿色高亮部分为缺失的空值位置。"
   ]
  },
  {
   "cell_type": "markdown",
   "metadata": {},
   "source": [
    "## 标记零值\n",
    "标记完最紧迫的nulls部分后，我们就应该着眼于检查零值特征了。\n",
    "\n",
    "零值比较特殊，往往也可以以非异常值出现，例如*'hr'*中表示每天的零点，*'holiday'*和*'workingday'*等boolean型中也含有零值。\n",
    "零值是否是异常值需要根据数据的表示形式和类型来具体判断。具体到本数据集，我们合理判断，在*'atemp'，'hum'*和*'windspeed'*出现零值是比较不合理的。\n",
    "\n",
    "同样，结合isin(),sum()可以快速统计出零值的分布和数量"
   ]
  },
  {
   "cell_type": "code",
   "execution_count": null,
   "metadata": {
    "ExecuteTime": {
     "end_time": "2020-10-07T08:48:29.913789Z",
     "start_time": "2020-10-07T08:48:29.822237Z"
    }
   },
   "outputs": [],
   "source": [
    "df.isin([0]).sum()"
   ]
  },
  {
   "cell_type": "markdown",
   "metadata": {},
   "source": [
    "统计结果结合我们的判断，在atemp，hum，windspeed三列数据中存在异常的零值。"
   ]
  },
  {
   "cell_type": "markdown",
   "metadata": {},
   "source": [
    "于是更新*'outlr_miss'*列的标签(此时共有6类数据标签)，以下是这些零值的标签编码：\n",
    "\n",
    "     outlr_miss       \n",
    "              data     >>  row with no Nulls or Zeros \n",
    "          temp_nan     >>  temp column has Null values\n",
    "           hum_nan     >>  hum column has Null values\n",
    "        atemp_zero     >>  atemp column has zero values\n",
    "          hum_zero     >>  hum column has zero values\n",
    "    windspeed_zero     >>  hum column has zero values\n"
   ]
  },
  {
   "cell_type": "code",
   "execution_count": null,
   "metadata": {
    "ExecuteTime": {
     "end_time": "2020-10-07T08:48:49.988722Z",
     "start_time": "2020-10-07T08:48:49.972796Z"
    }
   },
   "outputs": [],
   "source": [
    "df.loc[(df['outlr_miss']=='data') & df['atemp'].isin([0]), 'outlr_miss']     = 'atemp_zero' \n",
    "df.loc[(df['outlr_miss']=='data') & df['hum'].isin([0]), 'outlr_miss']       = 'hum_zero' \n",
    "df.loc[(df['outlr_miss']=='data') & df['windspeed'].isin([0]), 'outlr_miss'] = 'windspeed_zero' "
   ]
  },
  {
   "cell_type": "markdown",
   "metadata": {},
   "source": [
    "## 寻找重复值\n",
    "在真实数据集中，往往由于人为因素存在信息重复的情况，有时候重复率并不低。重复信息的存在显然对后续数据分析有极大影响。因此剔除重复值是必要的一步。\n",
    "\n",
    "duplicated()是pandas自带的统计重复值的函数，结合sum()可以得到数据的重复情况。"
   ]
  },
  {
   "cell_type": "code",
   "execution_count": null,
   "metadata": {
    "ExecuteTime": {
     "end_time": "2020-10-07T08:49:00.448866Z",
     "start_time": "2020-10-07T08:49:00.425782Z"
    }
   },
   "outputs": [],
   "source": [
    "df.duplicated().sum()"
   ]
  },
  {
   "cell_type": "markdown",
   "metadata": {},
   "source": [
    "在此数据集中，没有重复值。若存在，则可以选择剔除重复项，达到回归真实情况的目的。\n",
    "\n",
    "pandas中的剔除重复值函数：df.drop_duplicates()"
   ]
  },
  {
   "cell_type": "markdown",
   "metadata": {},
   "source": [
    "## 寻找异常值\n",
    "- 具体处理方法不变，难点在于找到哪些属于异常值\n",
    "- 箱型图是一种直观分析数据分散情况的统计图，需要强调的是，箱型图反映的是数据的离散情况，设置的异常值界限存在明显主观性，具体问题应该通过观察统计图来判断\n",
    "\n",
    "箱型图的细节：\n",
    "- 最小值(minimum)\n",
    "- 下四分位数(Q1)\n",
    "- 中位数(Med--也就是Q2)\n",
    "- 上四分位数(Q3)\n",
    "- 最大值(maximum)\n",
    "- 平均值\n",
    "\n",
    "四分位间距(interquartile range)=Q3-Q1 (ΔQ)\n",
    "\n",
    "人为规定，在在区间(Q3+1.5ΔQ, Q1-1.5ΔQ)以外的值被视为异常值。\n"
   ]
  },
  {
   "cell_type": "code",
   "execution_count": null,
   "metadata": {
    "ExecuteTime": {
     "end_time": "2020-10-07T08:49:44.472917Z",
     "start_time": "2020-10-07T08:49:44.124041Z"
    }
   },
   "outputs": [],
   "source": [
    "sns.set(context='talk', style='ticks', rc={'figure.figsize':(10,10)}) \n",
    "\n",
    "fig, axes = plt.subplots(nrows=2, ncols=2, sharey=True)\n",
    "\n",
    "g1 = sns.boxplot(data=df['hum'],ax=axes[0][0])\n",
    "g2 = sns.boxplot(data=df['temp'],ax=axes[0][1])\n",
    "\n",
    "g3 = sns.violinplot(data=df['atemp'],ax=axes[1][0])\n",
    "g4 = sns.violinplot(data=df['windspeed'],ax=axes[1][1])\n",
    "\n",
    "plt.show()"
   ]
  },
  {
   "cell_type": "markdown",
   "metadata": {},
   "source": [
    "利用箱型图得到的分析是考虑单一变量的结果。我们分析了hum、temp、atemp、windspeed四个特征。其中temp、atemp的箱型图没有出现异常值，hum的箱型图中存在异常值，但是是先前已经提取出的零值，而windspeed的箱型图中存在多个偏大的异常值，这里我们分析，风速是一个可以存在较大值的数值，而箱型图给出的异常值实际上并没有那么\"异常\"，至少在风速这个特征内是可以接受的，因此不认为存在异常值。"
   ]
  },
  {
   "cell_type": "markdown",
   "metadata": {},
   "source": [
    "## 绘制变量间散点图\n",
    "通常利用seaborn的pairplot()函数大致查看各组数据之间的相互关系。\n",
    "\n",
    "pairplot()分别绘制选中的各个变量之间的关系图，沿对角线对称。\n",
    "\n",
    "默认情况下，此函数将创建一个矩阵图，以便数据中的每个变量在x轴和y轴上存在，如第二行第三列的图反映的是第二与第三个变量之间的关系。\n",
    "\n",
    "对角线图的处理方式不同：绘制单变量分布图以显示每列中数据的分布情况。\n",
    "\n",
    "绘图细节：<br>\n",
    "（1）由于seaborn不能处理Null值，因此在将数据输入时，将Null替换为零。 <br>\n",
    "（2）为了促进图案的可视化，实现了自定义调色板。 <br>"
   ]
  },
  {
   "cell_type": "code",
   "execution_count": null,
   "metadata": {
    "ExecuteTime": {
     "end_time": "2020-10-07T08:50:30.853113Z",
     "start_time": "2020-10-07T08:50:17.796543Z"
    }
   },
   "outputs": [],
   "source": [
    "sns.set(context='talk', style='ticks')\n",
    "colorPalette = {'data':'lightgray', 'windspeed_zero':'lightgreen', \n",
    "                'hum_zero':'black', 'hum_nan':'dodgerblue',\n",
    "               'temp_nan':'orange', 'atemp_zero':'violet',}\n",
    "\n",
    "sns.pairplot(df[ordFeatures + contFeatures + target + ['outlr_miss']].fillna(0),\n",
    "            hue='outlr_miss', palette=colorPalette, plot_kws = {'s': 30})\n",
    "\n",
    "plt.show()\n",
    "plt.close('all')"
   ]
  },
  {
   "cell_type": "markdown",
   "metadata": {},
   "source": [
    "异常点显示为彩色，正常点显示为灰色点。（见图例）"
   ]
  },
  {
   "cell_type": "markdown",
   "metadata": {},
   "source": [
    "## 再议异常值\n",
    "箱型图反映的是单一变量的异常情况。真实情况往往有更加复杂的情况存在。\n",
    "\n",
    "观察多组数据的散点图，几乎所有偏离数据点主体的异常点都被标记为彩色，说明先前的异常值检测在变量间考量这个维度下取得了效果。\n",
    "\n",
    "* 然而在temp-atemp图中，发现明显存在一组异常值（偏离于数据点主体的一系列散点），这表示先前的箱型图并没有抓取出变量间存在的异常值。这组数据需要被处理，重新定义为异常点。\n",
    "* 检查后发现，该组异常值来源于08/17/2012的一组正常值，我们人为将其设置为全新的一类异常值。 "
   ]
  },
  {
   "cell_type": "code",
   "execution_count": null,
   "metadata": {},
   "outputs": [],
   "source": [
    "df[(df['temp']>0.5) & (df['atemp'] < 0.4)]"
   ]
  },
  {
   "cell_type": "code",
   "execution_count": null,
   "metadata": {},
   "outputs": [],
   "source": [
    "df.loc[df['dteday']=='08/17/2012']"
   ]
  },
  {
   "cell_type": "code",
   "execution_count": null,
   "metadata": {
    "ExecuteTime": {
     "end_time": "2020-10-07T08:52:18.746956Z",
     "start_time": "2020-10-07T08:52:18.740671Z"
    }
   },
   "outputs": [],
   "source": [
    "ts = pd.to_datetime('08/17/2012')\n",
    "df.loc[(df['outlr_miss']=='data') & df['dteday'].isin([ts]), 'outlr_miss'] = 'atemp_outlr' "
   ]
  },
  {
   "cell_type": "markdown",
   "metadata": {},
   "source": [
    "添加一组新的outliers后，更新*'outlr_miss'*列的标签(此时共有7类数据标签)，以下是这些零值的标签编码：\n",
    "\n",
    "     outlr_miss       \n",
    "              data     >>  row with no Nulls or Zeros \n",
    "          temp_nan     >>  temp column has Null values\n",
    "           hum_nan     >>  hum column has Null values\n",
    "        atemp_zero     >>  atemp column has zero values\n",
    "          hum_zero     >>  hum column has zero values\n",
    "    windspeed_zero     >>  hum column has zero values\n",
    "    atemp_outliers     >>  wrong values in atemp-temp graph\n",
    "    \n",
    "再次绘制多组数据的散点图"
   ]
  },
  {
   "cell_type": "code",
   "execution_count": null,
   "metadata": {
    "ExecuteTime": {
     "end_time": "2020-10-07T08:52:46.457983Z",
     "start_time": "2020-10-07T08:52:33.032019Z"
    }
   },
   "outputs": [],
   "source": [
    "sns.set(context='talk', style='ticks')\n",
    "colorPalette = {'data':'lightgray', 'windspeed_zero':'lightgreen', \n",
    "                'hum_zero':'black', 'hum_nan':'dodgerblue',\n",
    "               'temp_nan':'orange', 'atemp_zero':'violet', 'atemp_outlr':'cyan'}\n",
    "\n",
    "sns.pairplot(df[ordFeatures + contFeatures + target + ['outlr_miss']].fillna(0),\n",
    "            hue='outlr_miss', palette=colorPalette, plot_kws = {'s': 30})\n",
    "\n",
    "plt.show()\n",
    "plt.close('all')"
   ]
  },
  {
   "cell_type": "markdown",
   "metadata": {},
   "source": [
    "# 数据清洗——Nulls, Zeros, Outliers\n",
    "我们已经得到了6类异常的数据，分别是：\n",
    "\n",
    "          temp_nan     >>  temp column has Null values\n",
    "           hum_nan     >>  hum column has Null values\n",
    "        atemp_zero     >>  atemp column has zero values\n",
    "          hum_zero     >>  hum column has zero values\n",
    "    windspeed_zero     >>  hum column has zero values\n",
    "    atemp_outliers     >>  wrong values in atemp-temp graph\n",
    "    \n",
    "我们依次处理这些存在异常的数据。"
   ]
  },
  {
   "cell_type": "markdown",
   "metadata": {},
   "source": [
    "##  处理*'temp'* 与 *'atemp'*中的Nulls,Zeros,outliers\n",
    " \n",
    "观察温度-湿度图，具有温度*'temp'*和温度*'atemp'*的图存在三个可疑值：Nulls,zeros,outliers。\n",
    "\n",
    "通过常识推测，温度与湿度之间的相互关系可以用于推测出缺少的异常点。这里使用线性回归来预测*'temp'* 与 *'atemp'*中的Nulls,Zeros。<br>"
   ]
  },
  {
   "cell_type": "markdown",
   "metadata": {},
   "source": [
    "线性回归：利用数理统计中回归分析，来确定两种或两种以上变量间相互依赖的定量关系的一种统计分析方法，运用十分广泛。其表达形式为y = w'x+e，e为误差服从均值为0的正态分布。"
   ]
  },
  {
   "cell_type": "markdown",
   "metadata": {},
   "source": [
    "利用seaborn绘制处理前后的数据散点图对比，可视化对*'temp'* 与 *'atemp'*中的Nulls,Zeros的处理结果"
   ]
  },
  {
   "cell_type": "code",
   "execution_count": null,
   "metadata": {},
   "outputs": [],
   "source": [
    "df_cpy = df.copy(deep=True)\n",
    "\n",
    "ftr = ['windspeed_zero', 'data', 'hum_nan','hum_zero']\n",
    "# the df1 will have Nulls for variables other than 'temp' and 'atemp'\n",
    "df1 = df[df_cpy.outlr_miss.isin(ftr)]\n",
    "\n",
    "df1 = df1[['temp','atemp']].dropna()\n",
    "\n",
    "X   = df1['temp'].values.reshape(-1,1)\n",
    "y   = df1['atemp'].values.reshape(-1,1)\n",
    "regressor = LinearRegression()\n",
    "regressor.fit(X, y)\n",
    "\n",
    "df_cpy.loc[df_cpy['outlr_miss'].isin(['atemp_outlr']), 'atemp'] = df_cpy['temp']*regressor.coef_[0][0] + regressor.intercept_[0] \n",
    "df_cpy.loc[df_cpy['outlr_miss'].isin(['atemp_zero']), 'temp']   = df_cpy['temp']*regressor.coef_[0][0] + regressor.intercept_[0] \n",
    "df_cpy.loc[df_cpy['outlr_miss'].isin(['temp_nan']), 'temp']     = (df_cpy['atemp'] - regressor.intercept_[0])/regressor.coef_[0][0] "
   ]
  },
  {
   "cell_type": "code",
   "execution_count": null,
   "metadata": {
    "ExecuteTime": {
     "end_time": "2020-10-07T08:54:45.562234Z",
     "start_time": "2020-10-07T08:54:44.383326Z"
    }
   },
   "outputs": [],
   "source": [
    "sns.set(context='talk', style='ticks', rc={'figure.figsize':(18,5)}) \n",
    "\n",
    "fontdictT={'fontsize': 15, 'weight' : 'bold', 'horizontalalignment': 'center'}\n",
    "\n",
    "colorPalette = {'data':'lightgray', 'windspeed_zero':'lightgreen', \n",
    "                'hum_zero':'black', 'hum_nan':'dodgerblue',\n",
    "               'temp_nan':'orange', 'atemp_zero':'violet', 'atemp_outlr':'cyan'}\n",
    "\n",
    "fig, axes = plt.subplots(nrows=1, ncols=3, sharey=True)\n",
    "\n",
    "g1 = sns.scatterplot(x='temp', y='atemp', data=df.fillna(0),\n",
    "                     hue=\"outlr_miss\", palette=colorPalette, \n",
    "                     legend='brief', ax=axes[0])\n",
    "\n",
    "g1.set_title('Original Bike Share $temp$ vs $atem$ Data',\n",
    "            fontdict=fontdictT, color=\"black\")\n",
    "\n",
    "colorPalette = ['lightgray','violet', 'orange', 'cyan']\n",
    "ftr = ['data','atemp_zero', 'temp_nan','atemp_outlr']\n",
    "g2 = sns.scatterplot(x='temp', y='atemp', data=df_cpy[df_cpy.outlr_miss.isin(ftr)],\n",
    "                     hue=\"outlr_miss\", palette=colorPalette,\n",
    "                     legend=False, ax=axes[1])\n",
    "\n",
    "g2.set_title('Suspicious Trends Corrected for $temp$ vs $atemp$',\n",
    "            fontdict=fontdictT, color=\"black\")\n",
    "\n",
    "colorPalette = ['violet', 'orange', 'cyan']\n",
    "ftr = ['atemp_zero', 'temp_nan','atemp_outlr']\n",
    "g3 = sns.scatterplot(x='temp', y='atemp', data=df_cpy[df_cpy.outlr_miss.isin(ftr)],\n",
    "                     hue=\"outlr_miss\", palette=colorPalette,\n",
    "                     legend=False, ax=axes[2])\n",
    "\n",
    "g3.set_title('only Suspicious Trends Corrected data',\n",
    "            fontdict=fontdictT, color=\"black\")\n",
    "\n",
    "g1.legend(scatterpoints=1, loc='upper right',\n",
    "           bbox_to_anchor=(4, 1), borderaxespad=1.,\n",
    "           ncol=1, fontsize=12)\n",
    "\n",
    "plt.show()\n",
    "plt.close('all')"
   ]
  },
  {
   "cell_type": "markdown",
   "metadata": {},
   "source": [
    "观察左右两图，温度*'temp'*和温度*'atemp'*中的异常点Nulls,zeros,outliers已经经过了修改。因此修改异常点数据标签。"
   ]
  },
  {
   "cell_type": "code",
   "execution_count": null,
   "metadata": {
    "ExecuteTime": {
     "end_time": "2020-10-07T08:55:59.368904Z",
     "start_time": "2020-10-07T08:55:59.356344Z"
    }
   },
   "outputs": [],
   "source": [
    "df_cpy.loc[df_cpy['outlr_miss'].isin(['atemp_outlr']), 'outlr_miss'] = 'data'\n",
    "df_cpy.loc[df_cpy['outlr_miss'].isin(['temp_nan']), 'outlr_miss']    = 'data'\n",
    "df_cpy.loc[df_cpy['outlr_miss'].isin(['atemp_zero']), 'outlr_miss']  = 'data'"
   ]
  },
  {
   "cell_type": "markdown",
   "metadata": {},
   "source": [
    "##  处理湿度*'hum'*中的Nulls,Zeros\n",
    "\n",
    "科学常识表明，湿度与温度和露点有关，因此，在处理湿度的Nulls和zeros时，应当利用已有的温度与露点数据。\n",
    "在Bike_Sharing数据集中，可以利用的是湿度，温度，风速和日期，首先，我们可以将这些可能被利用到的参数进行可视化处理，大致感受异常值与相关数据的关系。\n",
    "\n",
    "参见如下散点图。"
   ]
  },
  {
   "cell_type": "code",
   "execution_count": null,
   "metadata": {
    "ExecuteTime": {
     "end_time": "2020-10-07T08:56:17.528399Z",
     "start_time": "2020-10-07T08:56:15.982554Z"
    },
    "scrolled": true
   },
   "outputs": [],
   "source": [
    "fontdictT    = {'fontsize': 14, 'weight' : 'bold', 'horizontalalignment': 'center'}\n",
    "colorPalette = {'data':'lightgray', 'windspeed_zero':'lightgreen', \n",
    "                'hum_zero':'black', 'hum_nan':'dodgerblue',\n",
    "               'temp_nan':'orange', 'atemp_zero':'violet', 'atemp_outlr':'cyan'}\n",
    "\n",
    "sns.set( style='ticks', font_scale=1.1, rc={'figure.figsize':(15,4)}) \n",
    "\n",
    "fig, axes = plt.subplots(nrows=1, ncols=3, sharey=True)\n",
    "\n",
    "g = sns.scatterplot(x='temp', y='hum', data=df_cpy.fillna(0),\n",
    "                    hue=\"outlr_miss\", palette=colorPalette,\n",
    "                    legend = False, ax=axes[0])\n",
    "g.set_title('Original Bike Share \\n$humidity$ vs $temperature$ Data',\n",
    "            fontdict=fontdictT, color=\"black\")\n",
    "\n",
    "    \n",
    "g = sns.scatterplot(x='windspeed', y='hum', data=df_cpy.fillna(0),\n",
    "                    hue=\"outlr_miss\", palette=colorPalette,\n",
    "                    legend = False, ax=axes[1])\n",
    "g.set_title('Original Bike Share \\n$humidity$ vs $wind speed$ Data',\n",
    "            fontdict=fontdictT, color=\"black\")\n",
    "\n",
    "\n",
    "g = sns.scatterplot(x='dteday', y='hum', data=df_cpy.fillna(0),\n",
    "                    hue=\"outlr_miss\", palette=colorPalette, \n",
    "                    legend = 'brief', ax=axes[2])\n",
    "g.set_title('Original Bike Share \\n$humidity$ vs $Date$ Data',\n",
    "            fontdict=fontdictT, color=\"black\")\n",
    "g.set_xlim(xmin=df_cpy.fillna(0).dteday.min(), xmax=df_cpy.fillna(0).dteday.max())\n",
    "g.xaxis.set_major_formatter(mdates.DateFormatter(\"%b,%Y\"))\n",
    "plt.setp(g.get_xticklabels(), rotation=44, ha=\"right\")\n",
    "g.legend(scatterpoints=1, loc='best', bbox_to_anchor=(1, 0.5),\n",
    "         borderaxespad=1., ncol=1, fontsize=13)\n",
    "\n",
    "plt.show()\n",
    "plt.close('all')"
   ]
  },
  {
   "cell_type": "markdown",
   "metadata": {},
   "source": [
    "单纯从湿度与温度、风速、日期的两两关系散点图并不能找到特定的规律，因此需要从更多角度分析数据结果。\n",
    "\n",
    "引入变量hr：考虑到晚上和清晨的温度趋于降低，然后在下午升高，并在一天结束时再次降低这个事实。通过引入变量hr，我们就可以将笼统的日期精细化到每一天的时刻，从而可以更加细致精准地利用一样数据。在粗颗粒度分析无果的情况下，精细化分析是一条必由之路。\n",
    "\n",
    "从这个角度切入，结合每天的时间查看湿度和温度。下图显示了一天中湿度和温度的变化。"
   ]
  },
  {
   "cell_type": "code",
   "execution_count": null,
   "metadata": {
    "ExecuteTime": {
     "end_time": "2020-10-07T08:58:47.028464Z",
     "start_time": "2020-10-07T08:58:45.557364Z"
    }
   },
   "outputs": [],
   "source": [
    "colorPalette = {'data':'silver', 'windspeed_zero':'lightgreen', 'hum_zero':'black', 'hum_nan':'red'}\n",
    "\n",
    "sns.set(context='talk', style='ticks') \n",
    "g = sns.relplot(x=\"hr\", y=\"hum\", col=\"weekday\", hue=\"outlr_miss\",\n",
    "            data=df_cpy[(df_cpy.dteday>'3/07/2011') & (df_cpy.dteday<'3/12/2011')].fillna(0),\n",
    "           palette=colorPalette,col_wrap=4, height=6, aspect=0.8)\n",
    "g.fig.suptitle('Humidity Through the Day', fontsize=20, fontweight='bold', y=1.03)\n",
    "\n",
    "g = sns.relplot(x=\"hr\", y=\"temp\", col=\"weekday\", hue=\"outlr_miss\", \n",
    "            data=df_cpy[(df_cpy.dteday>'3/07/2011') & (df_cpy.dteday<'3/12/2011')].fillna(0),\n",
    "           palette=colorPalette, col_wrap=4, height=6, aspect=0.8)\n",
    "g.fig.suptitle('Temperature Through the Day', fontsize=20, fontweight='bold', y=1.03)\n",
    "\n",
    "plt.show()\n",
    "plt.close('all')"
   ]
  },
  {
   "cell_type": "markdown",
   "metadata": {},
   "source": [
    "观察得，一天中温度和湿度之间存在相对明显的关系（注意，不是只线性关系，或者简单的正相关/负相关关系）。得到了可以用于预测湿度异常值的关联关系。\n",
    "\n",
    "下面我们专门绘制一天中温度与湿度的关系图，感受一下两个变量之间在时间这个维度下展示出的相关关系。"
   ]
  },
  {
   "cell_type": "code",
   "execution_count": null,
   "metadata": {
    "ExecuteTime": {
     "end_time": "2020-10-07T08:59:17.739033Z",
     "start_time": "2020-10-07T08:59:17.147222Z"
    }
   },
   "outputs": [],
   "source": [
    "fontdictSubT   = {'fontsize': 13, 'horizontalalignment': 'center'}\n",
    "day            = ['2011/3/08','2011/3/09','2011/3/10','2011/3/11']\n",
    "sns.set(context='talk', style='ticks', font_scale=0.8, rc={'figure.figsize':(16,4)}) \n",
    "\n",
    "n_rows, n_cols =1, 4\n",
    "fig, axes = plt.subplots(nrows=n_rows, ncols=n_cols, sharey=True)\n",
    "fig.suptitle('Humidity and Temperature Relationship Through the Day\\n\\n', fontsize=15, y=1.03)\n",
    "\n",
    "for i, ax in enumerate(axes):\n",
    "    ax1=sns.scatterplot(x=\"hr\", y=\"hum\", data=df_cpy[(df_cpy.dteday==day[i])].fillna(0),\n",
    "                        color='teal', marker='^', ax=ax)\n",
    "    ax1.yaxis.label.set_color('teal')\n",
    "    week_day = calendar.day_name[datetime.strptime(day[i], '%Y/%m/%d').weekday()]\n",
    "    ax1.set_title((week_day + \"  \" + day[i]), fontdict=fontdictSubT)\n",
    "\n",
    "    ax2 = ax1.twinx()\n",
    "    ax2 = sns.scatterplot(x=\"hr\", y=\"temp\", data=df_cpy[(df_cpy.dteday==day[i])].fillna(0),\n",
    "                          color='olive')\n",
    "    ax2.set_ylim(ymin=0.10, ymax=.5)\n",
    "    ax2.yaxis.label.set_color('olive')\n",
    "    if i != (n_cols-1): ax2.get_yaxis().set_visible(False) \n",
    "\n",
    "plt.show()\n",
    "plt.close('all')"
   ]
  },
  {
   "cell_type": "markdown",
   "metadata": {},
   "source": [
    "# 数据探索"
   ]
  },
  {
   "cell_type": "markdown",
   "metadata": {},
   "source": [
    "经过处理得到较为干净的数据集后，便可以进行初步的数据探索与分析。通过profile的输出结果，我们能够得知每列数据分布的最大值，最小值，中位数等信息。下面通过箱型图的展示，我们可以对数据整体面貌分布再次加深理解。下图我们选择数据中的五组数据（连续性变量）进行展示。通过绘图我们可以得到以下信息：\n",
    "\n",
    "* 数据的百分比分布情况，异常值分布情况\n",
    "* 风速信息存在一些风速过大的异常值，这与异常天气有关，可以接受\n",
    "* 租用车量信息分布不均衡，可以考虑更换数据表示方式"
   ]
  },
  {
   "cell_type": "code",
   "execution_count": null,
   "metadata": {
    "ExecuteTime": {
     "end_time": "2020-10-07T03:38:59.791948Z",
     "start_time": "2020-10-07T03:38:59.467980Z"
    }
   },
   "outputs": [],
   "source": [
    "df_clean=df_cpy.copy(deep=True)\n",
    "fig,axes = plt.subplots(1,5)\n",
    "color = dict(boxes='DarkGreen', whiskers='DarkOrange',\n",
    "              medians='DarkBlue', caps='Red')\n",
    "# boxes表示箱体，whisker表示触须线\n",
    "# medians表示中位数，caps表示最大与最小值界限\n",
    "\n",
    "axes_list  = ['temp','atemp','hum','windspeed','cnt']\n",
    "df_clean[axes_list].plot(kind='box',ax=axes,subplots=True,\n",
    "                              title='Different boxplots',color=color,sym='r+',widths=5)\n",
    "# sym参数表示异常值标记的方式\n",
    " \n",
    "axes[0].set_ylabel('temp')\n",
    "axes[1].set_ylabel('atemp')\n",
    "axes[2].set_ylabel('hum')\n",
    "axes[3].set_ylabel('windspeed')\n",
    "axes[4].set_ylabel('cnt')\n",
    " \n",
    "fig.subplots_adjust(wspace=1,hspace=1)  # 调整子图之间的间距"
   ]
  },
  {
   "cell_type": "markdown",
   "metadata": {},
   "source": [
    "# 单变量数据探索\n",
    "## 连续变量聚合 \n",
    "我们可以在数据中采取的方式为根据阈值或分布将它们分成不同的类别。在有的情况下也可以按照数据的分位数进行划分"
   ]
  },
  {
   "cell_type": "code",
   "execution_count": null,
   "metadata": {
    "ExecuteTime": {
     "end_time": "2020-10-07T03:39:00.242950Z",
     "start_time": "2020-10-07T03:38:59.794054Z"
    }
   },
   "outputs": [],
   "source": [
    "# 气温变量聚合\n",
    "temp_threshold=[0,0.2,0.4,0.6,0.8,1]\n",
    "df_clean['Temp_threshold']=pd.cut(df_clean['temp'],temp_threshold)\n",
    "\n",
    "\n",
    "# 湿度变量聚合\n",
    "hum_threshold=[0,0.2,0.4,0.6,0.8,1]\n",
    "df_clean['Hum_threshold']=pd.cut(df_clean['hum'],hum_threshold)\n",
    "\n",
    "#绘图\n",
    "fig, axes = plt.subplots(nrows=1, ncols=2, sharey=True)\n",
    "t = sns.boxplot(x='Temp_threshold',y='cnt', data=df_clean,  ax=axes[0])\n",
    "h = sns.boxplot(x='Hum_threshold',y='cnt', data=df_clean,  ax=axes[1])\n",
    "\n",
    "plt.show()\n",
    "plt.close('all')"
   ]
  },
  {
   "cell_type": "markdown",
   "metadata": {},
   "source": [
    "通过对温度与湿度两变量的聚合处理，我们能够更为明显的看到租车量与两者之间分别呈现正相关与负相关关系"
   ]
  },
  {
   "cell_type": "markdown",
   "metadata": {},
   "source": [
    "## 单变量对数变换\n",
    "通过之前的分布观察，租用自行车计数的分布不够均衡，因此可以使用对数变换使分布接近正态分布。这是一个经常采用的数据分析技巧，将对任何建模产生积极影响。"
   ]
  },
  {
   "cell_type": "code",
   "execution_count": null,
   "metadata": {
    "ExecuteTime": {
     "end_time": "2020-10-07T03:39:00.506418Z",
     "start_time": "2020-10-07T03:39:00.245057Z"
    }
   },
   "outputs": [],
   "source": [
    "sns.set( context='talk', style='ticks', font_scale=0.8, rc={'figure.figsize':(14,5)}) \n",
    "fig, axes = plt.subplots(nrows=1, ncols=2, sharey=True)\n",
    "fig.suptitle('Bicycle counts univariate behavior', fontsize=16, y=1)\n",
    "\n",
    "# 绘制原始数据分布图\n",
    "g = sns.distplot(df_clean.cnt, bins=10, vertical=True, ax=axes[0])\n",
    "g = sns.boxplot(y='cnt', data=df_clean, ax=axes[1])\n",
    "plt.show()\n",
    "plt.close('all')"
   ]
  },
  {
   "cell_type": "code",
   "execution_count": null,
   "metadata": {},
   "outputs": [],
   "source": [
    "sns.set( context='talk', style='ticks', font_scale=0.8, rc={'figure.figsize':(14,5)}) \n",
    "fig, axes = plt.subplots(nrows=1, ncols=2, sharey=True)\n",
    "fig.suptitle('Bicycle counts univariate behavior - Logarithm transformation', fontsize=16, y=1)\n",
    "\n",
    "# 进行数据的对数变换\n",
    "df_clean['logcnt'] = np.log(df_clean['cnt']+1)\n",
    "\n",
    "# 绘制对数变换后数据分布图\n",
    "g = sns.distplot(df_clean.logcnt, bins=10, vertical=True, ax=axes[0])\n",
    "g = sns.boxplot(y='logcnt', data=df_clean,ax=axes[1])\n",
    "plt.show()\n",
    "plt.close('all')"
   ]
  },
  {
   "cell_type": "markdown",
   "metadata": {},
   "source": [
    "# 多变量数据探索\n",
    "## 相关性分析\n",
    "对变量之间线性关系的分析是数据探索中的重中之重，其中一种方法是使用相关矩阵，例如Pearson相关系数矩阵。直观地，自行车数取不仅决于与天气状况有关而且与时间有关的变量。因此，相关矩阵包括天气和时间变量。通过看图，可得到以下一些结论：\n",
    "\n",
    "* 温度“temp”和体感温度“atemp”之间的共线性很明显。通过温度能够得到体感温度，因此将在建模过程中排除体感温度。\n",
    "\n",
    "* 通常，自行车计数与温度呈正相关，与湿度呈负相关。散点图矩阵的底行显示了这些趋势。然而，这些趋势应与时间维度同时分析。我们将在下一节对此进行详细说明。\n",
    "\n",
    "相关系数是最早由统计学家卡尔·皮尔逊设计的统计指标，是研究变量之间线性相关程度的量，一般用字母 r 表示。由于研究对象的不同，相关系数有多种定义方式，较为常用的是皮尔逊相关系数。"
   ]
  },
  {
   "cell_type": "code",
   "execution_count": null,
   "metadata": {
    "ExecuteTime": {
     "end_time": "2020-10-07T03:39:01.174955Z",
     "start_time": "2020-10-07T03:39:00.780074Z"
    }
   },
   "outputs": [],
   "source": [
    "corr_mtx = df_clean[[\"temp\",\"atemp\",\"hum\",\"windspeed\",\"season_int\",\"month_int\",\"weekday_int\",\"hr\",\"logcnt\"]].corr()\n",
    "\n",
    "w = 12\n",
    "h = 12\n",
    "d = 70\n",
    "sns.set( context='talk', style='whitegrid', font_scale=0.9) \n",
    "plt.figure(figsize=(w, h), dpi=d)\n",
    "ax = sns.heatmap(data=corr_mtx, annot=True, square=True, linewidths=1, linecolor='snow', \n",
    "                 vmin=np.nanmin(corr_mtx)-0.05, vmax=np.nanmax(corr_mtx)+0.05,\n",
    "                 cbar_kws={\"shrink\": .8}, cmap='BuGn')\n",
    "\n",
    "bottom, top = ax.get_ylim()\n",
    "ax.set_ylim(bottom + 0.5, top - 0.5)\n",
    "plt.show()\n",
    "plt.close('all')"
   ]
  },
  {
   "cell_type": "markdown",
   "metadata": {},
   "source": [
    "## 时间变量分析\n",
    "同样我们按照一些时间上的划分，针对租车数量做箱型图。观察下图中箱型图的中位数（数据的50%以上）；它显示了自行车租赁数量的四个一般特征。1） 租金在逐年增加，2）趋势最初随着时间的推移而增加然后减少，3）趋势随着时间的推移是周期性的，4）异常值的存在。更详细地说，可以导出以下结论：\n",
    "\n",
    "* 前两图显示，从1月份开始，租车量逐渐增加，保持了整个春季的增长格局，在夏季达到了一个最佳水平。然后，租车量在秋季和冬季下降，这是周期性行为的迹象。\n",
    "* 中间左面的图表示，在工作日，自行车租赁需求更高。这一现象在第二年更加明显，几乎增加了50%。这种行为表明，自行车租赁的普及率正在上升，至少在这个数据集的城市来源地是这样。\n",
    "* 中间右面的图显示，人们在假日里骑得更少。然而，这幅图也显示出自行车租赁在这几年里越来越受欢迎。"
   ]
  },
  {
   "cell_type": "code",
   "execution_count": null,
   "metadata": {
    "ExecuteTime": {
     "end_time": "2020-10-07T03:39:01.964283Z",
     "start_time": "2020-10-07T03:39:01.176935Z"
    }
   },
   "outputs": [],
   "source": [
    "sns.set(context='talk', style='ticks', font_scale=0.8, palette=\"Paired\")\n",
    "fig, axes = plt.subplots(nrows=2,ncols=2, sharey=True, figsize=(16,15))\n",
    "fig.subplots_adjust(hspace=0.3, wspace=0.10)\n",
    "\n",
    "\n",
    "sns.boxplot(y=\"cnt\",x=\"season\", data=df_clean, orient=\"v\", hue='year', notch=True, ax=axes[0][0])\n",
    "g = sns.boxplot(y=\"cnt\",x=\"month\", data=df_clean, orient=\"v\", hue='year', notch=True, ax=axes[0][1])\n",
    "plt.setp(g.get_xticklabels(), rotation=20, ha=\"right\")\n",
    "sns.boxplot(y=\"cnt\",x=\"workingday\", data=df_clean, orient=\"v\", hue='year', notch=True, ax=axes[1][0])\n",
    "sns.boxplot(y=\"cnt\",x=\"holiday\", data=df_clean, orient=\"v\", hue='year', notch=True, ax=axes[1][1])\n",
    "\n",
    "\n",
    "axes[0][0].set(xlabel='Season', ylabel='Count', title=\"Box Plot On Count Across Season\")\n",
    "axes[0][1].set(xlabel='Month', ylabel='Count', title=\"Box Plot On Count Across Months\")\n",
    "axes[1][0].set(xlabel='Working Day', ylabel='Count',title=\"Box Plot On Count Across Working Day\")\n",
    "axes[1][1].set(xlabel='Holiday', ylabel='Count', title=\"Box Plot On Count Across Holiday\")\n",
    "\n",
    "plt.show()\n",
    "plt.close('all')"
   ]
  },
  {
   "cell_type": "markdown",
   "metadata": {},
   "source": [
    "我们来看下一组图。通过不同的分类和不同的颜色区别多种变化趋势。连续趋势线的拐点描绘了一天中每小时租用自行车的平均数量。这些趋势线与我们刚才解释的模式和特征相似。这些图给了我们一个额外的信息。虚线表示一天中几个小时内平均温度的变化。这些趋势帮助我们确定，部分变量，（记住这是一个多元分析，湿度、风速和干湿度不在这些图中）如温度对一天中几个小时租赁自行车数量的影响。\n",
    "\n",
    "* 顶部的图揭示了有趣的趋势。秋季是全天平均气温最高的季节，而春季则是全天最低的平均气温。这些春季最低的平均温度似乎与最低的平均自行车数量有关，这也发生在春季。我们可以说，人们在春天骑自行车不多；也许人们想远离花粉、灰尘等。在这段时间里，人们不想染上过敏症。\n",
    "\n",
    "* 夏季、秋季和冬季自行车平均数量的趋势有重叠。人们可以认为这可能与气温有关；然而，告诉我们同一季节平均气温的趋势并不重叠。换句话说，平均温度趋势的分离和夏季、秋季和冬季的平均计数趋势的分离不匹配\n",
    "\n",
    "** 因此，夏季、秋季和冬季的平均温度不会改变自行车的平均需求趋势。然而，由于温度并不是控制天气状况的唯一因素，因此在夏季、秋季和冬季，自行车需求相对稳定，似乎存在着多种因素的混合因素。\n",
    "\n",
    "** 此外，夏季、秋季和冬季的自行车平均需求量高于春季。\n",
    "\n",
    "* 最后一个情节也揭示了一个有趣的趋势。一周中的几天里，平均气温保持不变。相较于工作日，周末尤其是早上晚些时候和下午早些时候，对自行车的平均需求更高。"
   ]
  },
  {
   "cell_type": "code",
   "execution_count": null,
   "metadata": {
    "ExecuteTime": {
     "end_time": "2020-10-07T03:39:11.214292Z",
     "start_time": "2020-10-07T03:39:01.966241Z"
    },
    "scrolled": true
   },
   "outputs": [],
   "source": [
    "fig = plt.figure()\n",
    "fig, axes = plt.subplots(nrows=2,ncols=1, figsize=(16,16))\n",
    "fig.subplots_adjust(hspace=0.25, wspace=0.12)\n",
    "\n",
    "seasonOrder  = ['spring','summer','fall','winter']\n",
    "WeekdayOrder = ['Sat', 'Sun', 'Mon', 'Tue', 'Wed', 'Thu', 'Fri']\n",
    "\n",
    "#绘制月度租车量随时间变化图\n",
    "ax1 = sns.pointplot(x=\"hr\", y=\"cnt\",hue=\"season\",  hue_order=seasonOrder, data=df_clean, \n",
    "                    palette='Paired', ax=axes[0])\n",
    "ax1.set(xlabel='Hour Of The Day', ylabel='Average Count (continuous line )', \n",
    "        title =\"Average Bicycle Count By Hour Of The Day Across Season\", label='big')\n",
    "#绘制月度气温随时间变化图\n",
    "ax1a = ax1.twinx()\n",
    "ax1a = sns.pointplot(x=\"hr\", y=\"temp\", hue=\"season\", hue_order=seasonOrder, data=df_clean, \n",
    "                     palette='Paired', linestyles=[\"--\",\"--\",\"--\",\"--\"])\n",
    "ax1a.set(ylabel='Temperature  (dash line)', label='big', ylim=(df_clean.temp.min(),df_clean.temp.max())) \n",
    "\n",
    "\n",
    "\n",
    "#绘制星期租车量随时间变化图\n",
    "ax2 = sns.pointplot(x=\"hr\", y=\"cnt\", hue=\"weekday\", hue_order=WeekdayOrder, data=df_clean,\n",
    "                    palette='Paired',ax=axes[1])\n",
    "ax2.set(xlabel='Hour Of The Day', ylabel='Average Count (continuous line)',\n",
    "        title=\"Average Bicycle Count By Hour Of The Day Across Weekdays\",label='big')\n",
    "#绘制星期气温随时间变化图        \n",
    "ax2a = ax2.twinx()\n",
    "ax2a = sns.pointplot(x=\"hr\", y=\"temp\", hue=\"weekday\", hue_order=WeekdayOrder, data=df_clean,\n",
    "                     palette='Paired', linestyles=[\"--\",\"--\",\"--\",\"--\",\"--\",\"--\",\"--\"])\n",
    "ax2a.set(ylabel='Temperature  (dash line)', label='big', ylim=(df_clean.temp.min(),df_clean.temp.max()))\n",
    "\n",
    "\n",
    "plt.show()\n",
    "plt.close('all')"
   ]
  },
  {
   "cell_type": "markdown",
   "metadata": {},
   "source": [
    "# 习题\n",
    "* 探索租车数量分别在2011与2012年间一天中24小时内的变化箱型图\n",
    "* 寻找适当的方式展示天气与租车数量的关系\n",
    "* 寻找适当的方式展示风速与租车数量的关系"
   ]
  }
 ],
 "metadata": {
  "kernelspec": {
   "display_name": "Python 3 (ipykernel)",
   "language": "python",
   "name": "python3"
  },
  "language_info": {
   "codemirror_mode": {
    "name": "ipython",
    "version": 3
   },
   "file_extension": ".py",
   "mimetype": "text/x-python",
   "name": "python",
   "nbconvert_exporter": "python",
   "pygments_lexer": "ipython3",
   "version": "3.8.11"
  },
  "latex_envs": {
   "LaTeX_envs_menu_present": true,
   "autoclose": false,
   "autocomplete": true,
   "bibliofile": "biblio.bib",
   "cite_by": "apalike",
   "current_citInitial": 1,
   "eqLabelWithNumbers": true,
   "eqNumInitial": 1,
   "hotkeys": {
    "equation": "Ctrl-E",
    "itemize": "Ctrl-I"
   },
   "labels_anchors": false,
   "latex_user_defs": false,
   "report_style_numbering": false,
   "user_envs_cfg": false
  },
  "toc": {
   "base_numbering": 1,
   "nav_menu": {},
   "number_sections": true,
   "sideBar": true,
   "skip_h1_title": false,
   "title_cell": "Table of Contents",
   "title_sidebar": "Contents",
   "toc_cell": false,
   "toc_position": {},
   "toc_section_display": true,
   "toc_window_display": false
  }
 },
 "nbformat": 4,
 "nbformat_minor": 2
}
