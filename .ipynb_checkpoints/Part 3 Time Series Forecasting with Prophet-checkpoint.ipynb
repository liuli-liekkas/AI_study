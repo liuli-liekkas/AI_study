{
 "cells": [
  {
   "cell_type": "markdown",
   "metadata": {},
   "source": [
    "# A Guide to Time Series Forecasting with Prophet in Python 3\n",
    "\n",
    "这个Notebook主要介绍了如何利用 Prophet 基于现有的时间序列数据进行预测。\n",
    "注意：FBProphet不支持pystan3.0以上，要安装pystan 2.19.1.1：\n",
    "\n",
    "!conda install pystan\n",
    "\n",
    "!pip install prophet\n",
    "\n",
    "## Prophet in Python\n",
    "\n",
    "ARIMA 模块需要非常复杂的手动过程来获取模型的参数， R 语言提供了一套参数自动优化的方法。Prophet 是 由 Facebook 的 Core Data Science 团队开源的一套针对时间序列基于 Python 和 R 语言的数据预测工具，其工作发表在论文《Forecasting at scale》(Taylor S J, LethamB. Forecasting at scale[J]. The American Statistician, 2018, 72(1): 37-45)。\n",
    "    - 注：“at scale”是指数据的复杂度（如数据中存在大量异常点）和预测结果的评估复杂度，不是常说的数据存储和计算复杂度。\n",
    "用于预测的时间任务常具有以下特征：\n",
    "    - 对于历史在至少几个月（最好是一年）的每小时、每天或每周的观察\n",
    "    - 强大的多次的「人类规模级」的季节性：每周的一些天和每年的一些时候\n",
    "    - 事先知道的以不定期的间隔发生的重要节假日（如，双十一）\n",
    "    - 合理数量的缺失的观察或大量异常\n",
    "    - 历史趋势改变，比如因为产品发布或记录变化\n",
    "    - 非线性增长曲线的趋势，其中有的趋势达到了自然极限或饱和"
   ]
  },
  {
   "cell_type": "markdown",
   "metadata": {},
   "source": [
    "## 系统要求\n",
    "\n",
    "1. Language: Python 3\n",
    "2. Library:  pandas, matplotlib, numpy, cython, fbprophet\n",
    "3. Others(Optional): Annaconda, Jupyter notebook"
   ]
  },
  {
   "cell_type": "markdown",
   "metadata": {},
   "source": [
    "## Step 1 Loading Time-series Data\n",
    "\n",
    "### 1）载入系统所需库\n",
    "- 注：可能会出现错误 ERROR:fbprophet:Importing plotly failed. Interactive plots will not work. 可能是没有安装 plotly 模块的原因\n",
    "    > 可行的解决方法： pip install --upgrade plotly"
   ]
  },
  {
   "cell_type": "code",
   "execution_count": null,
   "metadata": {},
   "outputs": [],
   "source": [
    "%matplotlib inline\n",
    "import pandas as pd\n",
    "from prophet import Prophet\n",
    "\n",
    "import matplotlib.pyplot as plt\n",
    "plt.style.use('fivethirtyeight')"
   ]
  },
  {
   "cell_type": "markdown",
   "metadata": {},
   "source": [
    "### 2）工作的数据集\n",
    "\n",
    "- 名称：Box and Jenkins (1976) Airline Passengers dataset\n",
    "- 内容：收集了从 1949 年到 1960 年期间每月飞机乘客数量。\n",
    "> curl -O https://assets.digitalocean.com/articles/eng_python/prophet/AirPassengers.csv"
   ]
  },
  {
   "cell_type": "code",
   "execution_count": null,
   "metadata": {},
   "outputs": [],
   "source": [
    "df = pd.read_csv('./data/AirPassengers.csv')\n",
    "\n",
    "df.head(5)"
   ]
  },
  {
   "cell_type": "markdown",
   "metadata": {},
   "source": [
    "- 查看 df 的格式并转换为**datetime**类型"
   ]
  },
  {
   "cell_type": "code",
   "execution_count": null,
   "metadata": {},
   "outputs": [],
   "source": [
    "df.dtypes"
   ]
  },
  {
   "cell_type": "code",
   "execution_count": null,
   "metadata": {},
   "outputs": [],
   "source": [
    "df['Month'] = pd.DatetimeIndex(df['Month'])\n",
    "df.dtypes"
   ]
  },
  {
   "cell_type": "code",
   "execution_count": null,
   "metadata": {},
   "outputs": [],
   "source": [
    "df = df.rename(columns={'Month': 'ds',\n",
    "                        'AirPassengers': 'y'})\n",
    "df.head(5)"
   ]
  },
  {
   "cell_type": "markdown",
   "metadata": {},
   "source": [
    "- 画图*"
   ]
  },
  {
   "cell_type": "code",
   "execution_count": null,
   "metadata": {},
   "outputs": [],
   "source": [
    "ax = df.set_index('ds').plot(figsize=(12, 8))\n",
    "ax.set_ylabel('Monthly Number of Airline Passengers')\n",
    "ax.set_xlabel('Date')\n",
    "\n",
    "plt.show()"
   ]
  },
  {
   "cell_type": "markdown",
   "metadata": {},
   "source": [
    "## Step 2 Time Series Forecasting with Prophet\n",
    "\n",
    "- 创建 Prophet 对象并完成初始化"
   ]
  },
  {
   "cell_type": "code",
   "execution_count": null,
   "metadata": {},
   "outputs": [],
   "source": [
    "# set the uncertainty interval to 95% (the Prophet default is 80%)\n",
    "my_model = Prophet(weekly_seasonality=True, daily_seasonality=True, interval_width=0.95)"
   ]
  },
  {
   "cell_type": "code",
   "execution_count": null,
   "metadata": {},
   "outputs": [],
   "source": [
    "my_model.fit(df)"
   ]
  },
  {
   "cell_type": "markdown",
   "metadata": {},
   "source": [
    "- 添加数据列记录预测数据"
   ]
  },
  {
   "cell_type": "code",
   "execution_count": null,
   "metadata": {},
   "outputs": [],
   "source": [
    "future_dates = my_model.make_future_dataframe(periods=36, freq='MS')\n",
    "future_dates.tail()"
   ]
  },
  {
   "cell_type": "markdown",
   "metadata": {},
   "source": [
    "- 采用 predict 方法来预测数据并填充"
   ]
  },
  {
   "cell_type": "code",
   "execution_count": null,
   "metadata": {},
   "outputs": [],
   "source": [
    "forecast = my_model.predict(future_dates)\n",
    "forecast[['ds', 'yhat', 'yhat_lower', 'yhat_upper']].tail()"
   ]
  },
  {
   "cell_type": "markdown",
   "metadata": {},
   "source": [
    "- 画图\n",
    "    - 黑点：观察值\n",
    "    - 蓝线：预测值\n",
    "    - 灰蓝色区域：不确定区间"
   ]
  },
  {
   "cell_type": "code",
   "execution_count": null,
   "metadata": {},
   "outputs": [],
   "source": [
    "my_model.plot(forecast,\n",
    "              uncertainty=True)"
   ]
  },
  {
   "cell_type": "markdown",
   "metadata": {},
   "source": [
    "振幅不是常数，尝试乘法模型"
   ]
  },
  {
   "cell_type": "code",
   "execution_count": null,
   "metadata": {},
   "outputs": [],
   "source": [
    "m_model = Prophet(seasonality_mode='multiplicative')\n",
    "m_model.fit(df)\n",
    "forecast = m_model.predict(future_dates)\n",
    "fig = m_model.plot(forecast)"
   ]
  },
  {
   "cell_type": "code",
   "execution_count": null,
   "metadata": {},
   "outputs": [],
   "source": []
  }
 ],
 "metadata": {
  "kernelspec": {
   "display_name": "Python 3 (ipykernel)",
   "language": "python",
   "name": "python3"
  },
  "language_info": {
   "codemirror_mode": {
    "name": "ipython",
    "version": 3
   },
   "file_extension": ".py",
   "mimetype": "text/x-python",
   "name": "python",
   "nbconvert_exporter": "python",
   "pygments_lexer": "ipython3",
   "version": "3.8.12"
  },
  "latex_envs": {
   "LaTeX_envs_menu_present": true,
   "autoclose": false,
   "autocomplete": true,
   "bibliofile": "biblio.bib",
   "cite_by": "apalike",
   "current_citInitial": 1,
   "eqLabelWithNumbers": true,
   "eqNumInitial": 1,
   "hotkeys": {
    "equation": "Ctrl-E",
    "itemize": "Ctrl-I"
   },
   "labels_anchors": false,
   "latex_user_defs": false,
   "report_style_numbering": false,
   "user_envs_cfg": false
  },
  "toc": {
   "base_numbering": 1,
   "nav_menu": {},
   "number_sections": true,
   "sideBar": true,
   "skip_h1_title": false,
   "title_cell": "Table of Contents",
   "title_sidebar": "Contents",
   "toc_cell": false,
   "toc_position": {},
   "toc_section_display": true,
   "toc_window_display": false
  }
 },
 "nbformat": 4,
 "nbformat_minor": 2
}
